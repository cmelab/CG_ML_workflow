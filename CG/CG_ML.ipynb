{
 "cells": [
  {
   "cell_type": "code",
   "execution_count": 1,
   "id": "ca816e82",
   "metadata": {},
   "outputs": [
    {
     "name": "stderr",
     "output_type": "stream",
     "text": [
      "Warning: importing 'simtk.openmm' is deprecated.  Import 'openmm' instead.\n"
     ]
    }
   ],
   "source": [
    "import mbuild as mb\n",
    "\n",
    "import hoomd\n",
    "import rowan\n",
    "import numpy as np"
   ]
  },
  {
   "cell_type": "code",
   "execution_count": 2,
   "id": "b8f8340f",
   "metadata": {},
   "outputs": [],
   "source": [
    "# chains = [mb.Compound(name=\"A\", mass=1) for i in range(2)]\n",
    "# system = mb.packing.fill_box(\n",
    "#             compound=chains,\n",
    "#             n_compounds=[1 for i in range(len(chains))],\n",
    "#             density=0.01,\n",
    "#             overlap=0.5,\n",
    "#             edge=1.5,\n",
    "#             fix_orientation=True\n",
    "#         )\n",
    "\n",
    "# init_snap = hoomd.Snapshot()\n",
    "# # Create place holder spots in the snapshot for rigid centers\n",
    "# init_snap.particles.types =[\"A\"]\n",
    "# init_snap.particles.N = 2\n",
    "# init_snap.particles.position[:] = [p.pos for p in system.particles()]\n",
    "\n",
    "# init_snap.configuration.box = [system.box.Lx, system.box.Ly, system.box.Lz, 0, 0,  0 ]"
   ]
  },
  {
   "cell_type": "code",
   "execution_count": 3,
   "id": "7cde5a80",
   "metadata": {},
   "outputs": [],
   "source": [
    "import gsd.hoomd\n",
    "rigid_log_path = '/home/marjanalbooyeh/logs/pps_rigid/2023-03-03-14:04:17/sim_traj.gsd'\n",
    "rigid_gsd = gsd.hoomd.open(rigid_log_path)\n",
    "\n",
    "init_snap = hoomd.Snapshot()\n",
    "# Create place holder spots in the snapshot for rigid centers\n",
    "init_snap.particles.types =[\"A\"]\n",
    "init_snap.particles.N = 2\n",
    "init_snap.particles.position[:] = rigid_gsd[0].particles.position[0:2]\n",
    "\n",
    "init_snap.configuration.box = rigid_gsd[0].configuration.box\n",
    "\n"
   ]
  },
  {
   "cell_type": "code",
   "execution_count": 4,
   "id": "e9a2e513",
   "metadata": {},
   "outputs": [],
   "source": [
    "device = hoomd.device.auto_select()\n",
    "sim = hoomd.Simulation(device=device)"
   ]
  },
  {
   "cell_type": "code",
   "execution_count": 28,
   "id": "9125b0db",
   "metadata": {},
   "outputs": [
    {
     "name": "stdout",
     "output_type": "stream",
     "text": [
      "<hoomd.device.GPU object at 0x7ffa219dce20>\n"
     ]
    }
   ],
   "source": [
    "print(device)"
   ]
  },
  {
   "cell_type": "code",
   "execution_count": 5,
   "id": "7d34e86f",
   "metadata": {},
   "outputs": [
    {
     "data": {
      "text/plain": [
       "array([[ 4.89505639e-02, -4.34400668e-05,  6.67155062e-03],\n",
       "       [-4.34400668e-05,  1.97911186e+00,  3.18715354e-04],\n",
       "       [ 6.67155062e-03,  3.18715354e-04,  1.93016545e+00]])"
      ]
     },
     "execution_count": 5,
     "metadata": {},
     "output_type": "execute_result"
    }
   ],
   "source": [
    "## Add moment of inertia\n",
    "\n",
    "mass = 1\n",
    "I = np.zeros(shape=(3, 3))\n",
    "for r in init_snap.particles.position:\n",
    "    I += mass * (np.dot(r, r) * np.identity(3) - np.outer(r, r))\n",
    "I"
   ]
  },
  {
   "cell_type": "code",
   "execution_count": 6,
   "id": "29ee8086",
   "metadata": {},
   "outputs": [],
   "source": [
    "init_snap.particles.moment_inertia[:] = [I[0, 0], I[1, 1], I[2, 2]]"
   ]
  },
  {
   "cell_type": "code",
   "execution_count": 7,
   "id": "e867a6a4",
   "metadata": {},
   "outputs": [],
   "source": [
    "sim.create_state_from_snapshot(init_snap)"
   ]
  },
  {
   "cell_type": "code",
   "execution_count": 8,
   "id": "19a140d9",
   "metadata": {},
   "outputs": [],
   "source": [
    "import torch.nn as nn\n",
    "import hoomd\n",
    "import torch\n",
    "import numpy as np\n",
    "\n",
    "class NN(nn.Module):\n",
    "    def __init__(self, in_dim, hidden_dim, out_dim, n_layers, act_fn=\"ReLU\"):\n",
    "        super(NN, self).__init__()\n",
    "        self.in_dim = in_dim\n",
    "        self.hidden_dim = hidden_dim\n",
    "        self.out_dim = out_dim\n",
    "        self.n_layers = n_layers\n",
    "        self.act_fn = act_fn\n",
    "\n",
    "        self.force_net = nn.Sequential(*self._get_net())\n",
    "        self.torque_net = nn.Sequential(*self._get_net())\n",
    "\n",
    "    def _get_act_fn(self):\n",
    "        act = getattr(nn, self.act_fn)\n",
    "        return act()\n",
    "\n",
    "    def _get_net(self):\n",
    "        layers = [nn.Linear(self.in_dim, self.hidden_dim), self._get_act_fn()]\n",
    "        for i in range(self.n_layers - 1):\n",
    "            layers.append(nn.Linear(self.hidden_dim, self.hidden_dim))\n",
    "            layers.append(nn.Dropout(p=0.5))\n",
    "            layers.append(self._get_act_fn())\n",
    "        layers.append(nn.Linear(self.hidden_dim, self.out_dim))\n",
    "        return layers\n",
    "\n",
    "    def forward(self, x):\n",
    "        return self.force_net(x), self.torque_net(x)\n",
    "\n",
    "\n",
    "class EllipsCustomForce(hoomd.md.force.Custom):\n",
    "    def __init__(self, rigid_ids, model_path, in_dim, hidden_dim, out_dim, n_layers, act_fn):\n",
    "        super().__init__(aniso=True)\n",
    "        # load ML model\n",
    "        self.rigid_ids = rigid_ids\n",
    "        self.device = torch.device(\"cuda:0\" if torch.cuda.is_available() else \"cpu\")\n",
    "        self.model = NN(in_dim=in_dim, hidden_dim=hidden_dim, out_dim=out_dim, n_layers=n_layers, act_fn=act_fn)\n",
    "        self.model.to(self.device)\n",
    "        self.model.load_state_dict(torch.load(model_path, map_location=self.device))\n",
    "        self.model.eval()\n",
    "\n",
    "    def set_forces(self, timestep):\n",
    "        # get positions and orientations\n",
    "        with self._state.cpu_local_snapshot as snap:\n",
    "            rigid_rtags = snap.particles.rtag[self.rigid_ids]\n",
    "            positions = np.array(snap.particles.position[rigid_rtags], copy=True)\n",
    "            orientations = np.array(snap.particles.orientation[rigid_rtags], copy=True)\n",
    "\n",
    "        rel_positions = np.zeros((positions.shape[0], positions.shape[1] +1))\n",
    "        rel_positions[0, :3] = positions[0, :3] - positions[ 1, :3]\n",
    "        rel_positions[1, :3] = positions[1, :3] - positions[ 0, :3]\n",
    "        rel_positions[:, 3] = np.linalg.norm(rel_positions[:, :3], axis=1)\n",
    "\n",
    "        rel_orientations = np.zeros((orientations.shape[0], orientations.shape[1]+1))\n",
    "        rel_orientations[0, :4] = rowan.geometry.riemann_log_map(orientations[0,:], orientations[1, :])\n",
    "        rel_orientations[1, :4] = rowan.geometry.riemann_log_map(orientations[1, :], orientations[0, :])\n",
    "        rel_orientations[0, 4] = rowan.geometry.sym_intrinsic_distance(orientations[ 0, :], orientations [1, :])\n",
    "        rel_orientations[1, 4] = rowan.geometry.sym_intrinsic_distance(orientations[1, :], orientations[0, :])\n",
    "        \n",
    "        positions_tensor = torch.from_numpy(rel_positions).type(torch.FloatTensor)\n",
    "        orientations_tensor = torch.from_numpy(rel_orientations).type(torch.FloatTensor)\n",
    "        model_input = torch.cat((positions_tensor, orientations_tensor), 1).to(self.device)\n",
    "#         print('****************************************')\n",
    "#         print('orients: ', orientations)\n",
    "#         print('pos: ', positions)\n",
    "#         print('rel orients: ', orientations_tensor)\n",
    "#         print('rel pos: ', rel_positions)\n",
    "#         print('model inp: ', model_input)\n",
    "\n",
    "        force_prediction, torque_prediction = self.model(model_input)\n",
    "        predicted_force = force_prediction.cpu().detach().numpy()\n",
    "        predicted_torque = torque_prediction.cpu().detach().numpy()\n",
    "#         print('predicted force: ', predicted_force)\n",
    "#         print('predicted torque: ', predicted_torque)\n",
    "        self.predicted_force = predicted_force\n",
    "        self.predicted_torque = predicted_torque\n",
    "        with self.cpu_local_force_arrays as arrays:\n",
    "\n",
    "#             print('timestep: ', timestep)\n",
    "#             print('****************************************')\n",
    "#             print(arrays.potential_energy)\n",
    "            arrays.force[rigid_rtags] = predicted_force\n",
    "            arrays.torque[rigid_rtags] = predicted_torque"
   ]
  },
  {
   "cell_type": "code",
   "execution_count": 9,
   "id": "3d3ba97c",
   "metadata": {},
   "outputs": [],
   "source": [
    "forcefields = []\n",
    "ml_model_dir= '/home/marjanalbooyeh/logs/ML/2023-03-01 16:57:39/model/best_model.pth'\n",
    "\n",
    "\n",
    "\n",
    "in_dim=7\n",
    "out_dim=3\n",
    "hidden_dim=64\n",
    "n_layers=2\n",
    "act_fn=\"Tanh\"\n",
    "custom_force = EllipsCustomForce(rigid_ids=[0, 1], \n",
    "                                 model_path=ml_model_dir, in_dim=9,\n",
    "                                 hidden_dim=hidden_dim, out_dim=3,\n",
    "                                 n_layers=n_layers, act_fn=act_fn)\n",
    "forcefields.append(custom_force)"
   ]
  },
  {
   "cell_type": "code",
   "execution_count": 10,
   "id": "20892044",
   "metadata": {},
   "outputs": [],
   "source": [
    "_all = hoomd.filter.All()"
   ]
  },
  {
   "cell_type": "code",
   "execution_count": 11,
   "id": "43aff5e3",
   "metadata": {},
   "outputs": [],
   "source": [
    "## set parameters\n",
    "\n",
    "dt = 0.0003\n",
    "tau_kT = 10\n",
    "kT = 1.5"
   ]
  },
  {
   "cell_type": "code",
   "execution_count": 12,
   "id": "16737910",
   "metadata": {},
   "outputs": [],
   "source": [
    "integrator_method = hoomd.md.methods.NVT(filter=_all, kT=kT, tau=tau_kT)\n",
    "integrator = hoomd.md.Integrator(dt=dt, integrate_rotational_dof=True)\n",
    "integrator.forces = forcefields\n",
    "sim.operations.add(integrator)"
   ]
  },
  {
   "cell_type": "code",
   "execution_count": 13,
   "id": "d5d7f277",
   "metadata": {},
   "outputs": [],
   "source": [
    "sim.operations.integrator.methods = [integrator_method]"
   ]
  },
  {
   "cell_type": "code",
   "execution_count": 14,
   "id": "43c36410",
   "metadata": {},
   "outputs": [
    {
     "name": "stderr",
     "output_type": "stream",
     "text": [
      "*Warning*: Simulation.seed is not set, using default seed=0\n"
     ]
    }
   ],
   "source": [
    "sim.state.thermalize_particle_momenta(filter=_all, kT=kT)"
   ]
  },
  {
   "cell_type": "code",
   "execution_count": 15,
   "id": "3c152e0a",
   "metadata": {},
   "outputs": [],
   "source": [
    "thermodynamic_properties = hoomd.md.compute.ThermodynamicQuantities(filter=_all)\n",
    "sim.operations.computes.append(thermodynamic_properties)"
   ]
  },
  {
   "cell_type": "code",
   "execution_count": 16,
   "id": "73bac86f",
   "metadata": {},
   "outputs": [],
   "source": [
    "import os\n",
    "from datetime import datetime\n",
    "log_dir = \"/home/marjanalbooyeh/logs/pps_CG/\"\n",
    "now = datetime.now()\n",
    "log_path = os.path.join(log_dir, now.strftime(\"%Y-%m-%d-%H:%M:%S\")) + '/'\n",
    "\n",
    "\n",
    "if not os.path.exists(log_path):\n",
    "    os.mkdir(log_path)\n",
    "    \n",
    "log_quantities = [\n",
    "            \"kinetic_temperature\",\n",
    "            \"potential_energy\",\n",
    "            \"kinetic_energy\",\n",
    "            \"volume\",\n",
    "            \"pressure\",\n",
    "            \"pressure_tensor\"\n",
    "        ]\n",
    "logger = hoomd.logging.Logger(categories=[\"scalar\", \"string\", \"particle\"])\n",
    "logger.add(sim, quantities=[\"timestep\", \"tps\"])\n",
    "thermo_props = thermodynamic_properties\n",
    "logger.add(thermo_props, quantities=log_quantities)\n",
    "# logger = hoomd.logging.Logger(categories=[\"scalar\", \"string\", \"particle\"])\n",
    "for f in forcefields:\n",
    "    logger.add(f, quantities=[\"forces\", \"torques\"])\n",
    "\n",
    "# table_file = hoomd.write.Table(\n",
    "#     output=open(os.path.join(log_path, \"sim_traj.txt\"), mode=\"w\", newline=\"\\n\"),\n",
    "#     trigger=hoomd.trigger.Periodic(period=int(1000)),\n",
    "#     logger=logger,\n",
    "#     max_header_len=None,\n",
    "# )\n",
    "gsd_writer = hoomd.write.GSD(\n",
    "        filename=os.path.join(log_path, \"ML_sim_traj.gsd\"),\n",
    "        trigger=hoomd.trigger.Periodic(\n",
    "            period=int(1000), phase=0\n",
    "        ),\n",
    "        mode=\"wb\",\n",
    "        filter=hoomd.filter.All(),\n",
    "        dynamic=[\"momentum\"],\n",
    "        log=logger\n",
    ")"
   ]
  },
  {
   "cell_type": "code",
   "execution_count": 17,
   "id": "cae0104e",
   "metadata": {},
   "outputs": [
    {
     "data": {
      "text/plain": [
       "{'energy': 'scalar',\n",
       " 'energies': 'particle',\n",
       " 'additional_energy': 'scalar',\n",
       " 'forces': 'particle',\n",
       " 'torques': 'particle',\n",
       " 'virials': 'particle',\n",
       " 'additional_virial': 'sequence'}"
      ]
     },
     "execution_count": 17,
     "metadata": {},
     "output_type": "execute_result"
    }
   ],
   "source": [
    "f.loggables"
   ]
  },
  {
   "cell_type": "code",
   "execution_count": 18,
   "id": "bce98a83",
   "metadata": {},
   "outputs": [],
   "source": [
    "sim.operations.writers.append(gsd_writer)\n",
    "# sim.operations.writers.append(table_file)"
   ]
  },
  {
   "cell_type": "code",
   "execution_count": 19,
   "id": "367b85c7",
   "metadata": {},
   "outputs": [],
   "source": [
    "sim.run(0, write_at_start=True)"
   ]
  },
  {
   "cell_type": "code",
   "execution_count": 129,
   "id": "787067c1",
   "metadata": {},
   "outputs": [
    {
     "name": "stdout",
     "output_type": "stream",
     "text": [
      "HOOMDArray([[ 1.97188222 -0.20289414  0.06983446]\n",
      " [-1.9971689   0.25731409 -0.07120445]])\n",
      "HOOMDArray([[-1.77881997e-02 -1.32438332e-01  8.45176692e-05]\n",
      " [-1.75892152e-02 -2.04224586e-02  6.46268502e-02]])\n",
      "HOOMDArray([[-1.00347698 -0.00101863  0.15644246]\n",
      " [ 0.96083158 -0.00101863  0.15644246]])\n",
      "HOOMDArray([[1. 0. 0. 0.]\n",
      " [1. 0. 0. 0.]])\n"
     ]
    }
   ],
   "source": [
    "with sim._state.cpu_local_snapshot as snap:\n",
    "    print(snap.particles.net_force)\n",
    "    print(snap.particles.net_torque)\n",
    "    print(snap.particles.position)\n",
    "    print(snap.particles.orientation)"
   ]
  },
  {
   "cell_type": "code",
   "execution_count": 130,
   "id": "5243f164",
   "metadata": {},
   "outputs": [
    {
     "data": {
      "text/plain": [
       "array([[ 1.97188222, -0.20289414,  0.06983446],\n",
       "       [-1.9971689 ,  0.25731409, -0.07120445]])"
      ]
     },
     "execution_count": 130,
     "metadata": {},
     "output_type": "execute_result"
    }
   ],
   "source": [
    "forcefields[0].forces"
   ]
  },
  {
   "cell_type": "code",
   "execution_count": 20,
   "id": "09b71bbb",
   "metadata": {},
   "outputs": [],
   "source": [
    "sim.run(2e6, write_at_start=True)"
   ]
  },
  {
   "cell_type": "code",
   "execution_count": null,
   "id": "f7b2df29",
   "metadata": {},
   "outputs": [],
   "source": [
    "operations"
   ]
  },
  {
   "cell_type": "code",
   "execution_count": 26,
   "id": "d6e9dfad",
   "metadata": {},
   "outputs": [],
   "source": [
    "import gsd.hoomd\n",
    "with gsd.hoomd.open(os.path.join(log_path, \"ellipsoids_new.gsd\"), \"wb\") as new_t:\n",
    "        with gsd.hoomd.open(os.path.join(log_path, \"ML_sim_traj.gsd\")) as old_t:\n",
    "            for snap in old_t:\n",
    "                snap.particles.type_shapes = [\n",
    "                    {\n",
    "                        \"type\": \"Ellipsoid\",\n",
    "                        \"a\": 1,\n",
    "                        \"b\": 0.5,\n",
    "                        \"c\":0.5\n",
    "                    },\n",
    "\n",
    "                ]\n",
    "                snap.validate()\n",
    "                new_t.append(snap)"
   ]
  },
  {
   "cell_type": "code",
   "execution_count": 25,
   "id": "5ee24e9f",
   "metadata": {},
   "outputs": [
    {
     "data": {
      "text/plain": [
       "'/home/marjanalbooyeh/logs/pps_CG/2023-03-08-17:05:21/'"
      ]
     },
     "execution_count": 25,
     "metadata": {},
     "output_type": "execute_result"
    }
   ],
   "source": [
    "log_path"
   ]
  },
  {
   "cell_type": "code",
   "execution_count": 21,
   "id": "7b17297b",
   "metadata": {},
   "outputs": [],
   "source": [
    "import gsd.hoomd\n",
    "traj = gsd.hoomd.open(os.path.join(log_path, \"ML_sim_traj.gsd\"))"
   ]
  },
  {
   "cell_type": "code",
   "execution_count": 22,
   "id": "f06877b7",
   "metadata": {},
   "outputs": [
    {
     "data": {
      "text/plain": [
       "{'Simulation/timestep': array([0]),\n",
       " 'Simulation/tps': array([0.]),\n",
       " 'md/compute/ThermodynamicQuantities/kinetic_temperature': array([1.0285419]),\n",
       " 'md/compute/ThermodynamicQuantities/potential_energy': array([0.]),\n",
       " 'md/compute/ThermodynamicQuantities/kinetic_energy': array([4.62843853]),\n",
       " 'md/compute/ThermodynamicQuantities/volume': array([808.50548218]),\n",
       " 'md/compute/ThermodynamicQuantities/pressure': array([0.00051519]),\n",
       " 'particles/EllipsCustomForce/forces': array([[ 1.97188222, -0.20289414,  0.06983446],\n",
       "        [-1.9971689 ,  0.25731409, -0.07120445]]),\n",
       " 'particles/EllipsCustomForce/torques': array([[-1.77881997e-02, -1.32438332e-01,  8.45176692e-05],\n",
       "        [-1.75892152e-02, -2.04224586e-02,  6.46268502e-02]])}"
      ]
     },
     "execution_count": 22,
     "metadata": {},
     "output_type": "execute_result"
    }
   ],
   "source": [
    "traj[0].log"
   ]
  },
  {
   "cell_type": "code",
   "execution_count": 23,
   "id": "a1c58848",
   "metadata": {},
   "outputs": [
    {
     "data": {
      "text/plain": [
       "'/home/marjanalbooyeh/logs/pps_CG/2023-03-08-17:05:21/'"
      ]
     },
     "execution_count": 23,
     "metadata": {},
     "output_type": "execute_result"
    }
   ],
   "source": [
    "log_path"
   ]
  },
  {
   "cell_type": "markdown",
   "id": "aefd5ca0",
   "metadata": {},
   "source": [
    "with sim._state.cpu_local_snapshot as snap:\n",
    "    print(snap.particles.potential_energy)"
   ]
  },
  {
   "cell_type": "code",
   "execution_count": null,
   "id": "1251871c",
   "metadata": {},
   "outputs": [],
   "source": []
  }
 ],
 "metadata": {
  "kernelspec": {
   "display_name": "Python 3 (ipykernel)",
   "language": "python",
   "name": "python3"
  },
  "language_info": {
   "codemirror_mode": {
    "name": "ipython",
    "version": 3
   },
   "file_extension": ".py",
   "mimetype": "text/x-python",
   "name": "python",
   "nbconvert_exporter": "python",
   "pygments_lexer": "ipython3",
   "version": "3.9.15"
  }
 },
 "nbformat": 4,
 "nbformat_minor": 5
}
