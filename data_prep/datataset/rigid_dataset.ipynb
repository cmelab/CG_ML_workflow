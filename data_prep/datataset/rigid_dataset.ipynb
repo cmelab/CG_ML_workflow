{
 "cells": [
  {
   "cell_type": "code",
   "execution_count": 16,
   "id": "4e14e4b6",
   "metadata": {},
   "outputs": [],
   "source": [
    "import numpy as np\n",
    "import pandas as pd"
   ]
  },
  {
   "cell_type": "code",
   "execution_count": 17,
   "id": "75d186e1",
   "metadata": {},
   "outputs": [],
   "source": [
    "rigid_traj_path = \"/home/marjanalbooyeh/code/cme-lab/ML_datasets/pps_rigid_Feb22_2/raw_data/pps_rigid_2.pkl\""
   ]
  },
  {
   "cell_type": "code",
   "execution_count": 18,
   "id": "f1a27b1c",
   "metadata": {},
   "outputs": [],
   "source": [
    "traj_df = pd.read_pickle(rigid_traj_path)"
   ]
  },
  {
   "cell_type": "code",
   "execution_count": 19,
   "id": "dd9dd8fd",
   "metadata": {},
   "outputs": [
    {
     "data": {
      "text/html": [
       "<div>\n",
       "<style scoped>\n",
       "    .dataframe tbody tr th:only-of-type {\n",
       "        vertical-align: middle;\n",
       "    }\n",
       "\n",
       "    .dataframe tbody tr th {\n",
       "        vertical-align: top;\n",
       "    }\n",
       "\n",
       "    .dataframe thead th {\n",
       "        text-align: right;\n",
       "    }\n",
       "</style>\n",
       "<table border=\"1\" class=\"dataframe\">\n",
       "  <thead>\n",
       "    <tr style=\"text-align: right;\">\n",
       "      <th></th>\n",
       "      <th>net_force</th>\n",
       "      <th>net_torque</th>\n",
       "      <th>orientation</th>\n",
       "      <th>position</th>\n",
       "      <th>timestep</th>\n",
       "    </tr>\n",
       "  </thead>\n",
       "  <tbody>\n",
       "    <tr>\n",
       "      <th>0</th>\n",
       "      <td>[[0.9619755684694091, -0.00593004320234769, 0....</td>\n",
       "      <td>[[-0.0005679807434297857, -0.12818891765945012...</td>\n",
       "      <td>[[1.0, 0.0, 0.0, 0.0], [1.0, 0.0, 0.0, 0.0]]</td>\n",
       "      <td>[[-1.1437847456378163, -0.0010186344033643584,...</td>\n",
       "      <td>0</td>\n",
       "    </tr>\n",
       "    <tr>\n",
       "      <th>1</th>\n",
       "      <td>[[-4.444279903935069, -2.4822420121960818, -1....</td>\n",
       "      <td>[[-0.4545146836770524, 1.1319537690556642, -0....</td>\n",
       "      <td>[[-0.8607012612708522, 0.26080785272544915, -0...</td>\n",
       "      <td>[[0.8141912013603632, 0.5444919364633677, 0.71...</td>\n",
       "      <td>9000</td>\n",
       "    </tr>\n",
       "    <tr>\n",
       "      <th>2</th>\n",
       "      <td>[[0.0, 0.0, 0.0], [0.0, 0.0, 0.0]]</td>\n",
       "      <td>[[3.17822301809656e-09, -2.0108714693378715e-0...</td>\n",
       "      <td>[[0.4151668437279597, 0.2985825347903849, -0.3...</td>\n",
       "      <td>[[1.4213392302858736, 4.270709512726498, 4.153...</td>\n",
       "      <td>99000</td>\n",
       "    </tr>\n",
       "    <tr>\n",
       "      <th>3</th>\n",
       "      <td>[[-1.4210854715202004e-14, 3.552713678800501e-...</td>\n",
       "      <td>[[2.891573203100961e-09, -4.5065284837164654e-...</td>\n",
       "      <td>[[0.2349484241948031, 0.4017634540377077, 0.04...</td>\n",
       "      <td>[[2.2311465655030367, -1.2790396712887402, 4.2...</td>\n",
       "      <td>999000</td>\n",
       "    </tr>\n",
       "    <tr>\n",
       "      <th>4</th>\n",
       "      <td>[[0.0, -2.1316282072803006e-14, 0.0], [-2.8421...</td>\n",
       "      <td>[[1.783567071811376e-09, 8.644800431056865e-10...</td>\n",
       "      <td>[[0.14457326027748918, 0.2821021172018771, 0.2...</td>\n",
       "      <td>[[2.264729166774961, -1.2570812262304927, 4.16...</td>\n",
       "      <td>1000000</td>\n",
       "    </tr>\n",
       "  </tbody>\n",
       "</table>\n",
       "</div>"
      ],
      "text/plain": [
       "                                           net_force  \\\n",
       "0  [[0.9619755684694091, -0.00593004320234769, 0....   \n",
       "1  [[-4.444279903935069, -2.4822420121960818, -1....   \n",
       "2                 [[0.0, 0.0, 0.0], [0.0, 0.0, 0.0]]   \n",
       "3  [[-1.4210854715202004e-14, 3.552713678800501e-...   \n",
       "4  [[0.0, -2.1316282072803006e-14, 0.0], [-2.8421...   \n",
       "\n",
       "                                          net_torque  \\\n",
       "0  [[-0.0005679807434297857, -0.12818891765945012...   \n",
       "1  [[-0.4545146836770524, 1.1319537690556642, -0....   \n",
       "2  [[3.17822301809656e-09, -2.0108714693378715e-0...   \n",
       "3  [[2.891573203100961e-09, -4.5065284837164654e-...   \n",
       "4  [[1.783567071811376e-09, 8.644800431056865e-10...   \n",
       "\n",
       "                                         orientation  \\\n",
       "0       [[1.0, 0.0, 0.0, 0.0], [1.0, 0.0, 0.0, 0.0]]   \n",
       "1  [[-0.8607012612708522, 0.26080785272544915, -0...   \n",
       "2  [[0.4151668437279597, 0.2985825347903849, -0.3...   \n",
       "3  [[0.2349484241948031, 0.4017634540377077, 0.04...   \n",
       "4  [[0.14457326027748918, 0.2821021172018771, 0.2...   \n",
       "\n",
       "                                            position  timestep  \n",
       "0  [[-1.1437847456378163, -0.0010186344033643584,...         0  \n",
       "1  [[0.8141912013603632, 0.5444919364633677, 0.71...      9000  \n",
       "2  [[1.4213392302858736, 4.270709512726498, 4.153...     99000  \n",
       "3  [[2.2311465655030367, -1.2790396712887402, 4.2...    999000  \n",
       "4  [[2.264729166774961, -1.2570812262304927, 4.16...   1000000  "
      ]
     },
     "execution_count": 19,
     "metadata": {},
     "output_type": "execute_result"
    }
   ],
   "source": [
    "traj_df.head()"
   ]
  },
  {
   "cell_type": "code",
   "execution_count": 20,
   "id": "df025440",
   "metadata": {},
   "outputs": [
    {
     "data": {
      "text/plain": [
       "(6001, 5)"
      ]
     },
     "execution_count": 20,
     "metadata": {},
     "output_type": "execute_result"
    }
   ],
   "source": [
    "traj_df.shape"
   ]
  },
  {
   "cell_type": "code",
   "execution_count": 21,
   "id": "e52f3a59",
   "metadata": {},
   "outputs": [],
   "source": [
    "#shuffle order of frames\n",
    "traj_df = traj_df.sample(frac=1).reset_index(drop=True)"
   ]
  },
  {
   "cell_type": "code",
   "execution_count": 22,
   "id": "e25a2c19",
   "metadata": {},
   "outputs": [],
   "source": [
    "test_frac = 0.1\n",
    "val_frac = 0.1"
   ]
  },
  {
   "cell_type": "code",
   "execution_count": 23,
   "id": "9d1d1d2d",
   "metadata": {},
   "outputs": [],
   "source": [
    "dataset_len = traj_df.shape[0]\n",
    "test_len = int(dataset_len * test_frac)\n",
    "val_len = int(dataset_len * val_frac)\n"
   ]
  },
  {
   "cell_type": "code",
   "execution_count": 24,
   "id": "0af31e8c",
   "metadata": {},
   "outputs": [],
   "source": [
    "test_df = traj_df.loc[:test_len]"
   ]
  },
  {
   "cell_type": "code",
   "execution_count": 25,
   "id": "ce70d01b",
   "metadata": {},
   "outputs": [],
   "source": [
    "val_df = traj_df.loc[test_len: test_len + val_len]"
   ]
  },
  {
   "cell_type": "code",
   "execution_count": 26,
   "id": "68e22459",
   "metadata": {},
   "outputs": [],
   "source": [
    "train_df = traj_df.loc[test_len + val_len:]"
   ]
  },
  {
   "cell_type": "code",
   "execution_count": 27,
   "id": "359866c1",
   "metadata": {},
   "outputs": [
    {
     "data": {
      "text/plain": [
       "(601, 5)"
      ]
     },
     "execution_count": 27,
     "metadata": {},
     "output_type": "execute_result"
    }
   ],
   "source": [
    "test_df.shape"
   ]
  },
  {
   "cell_type": "code",
   "execution_count": 28,
   "id": "59c0023f",
   "metadata": {},
   "outputs": [],
   "source": [
    "target_data_path = '/home/marjanalbooyeh/code/cme-lab/ML_datasets/pps_rigid_Feb22_2/processed/'\n",
    "import os\n",
    "if not os.path.exists(target_data_path):\n",
    "    os.mkdir(target_data_path)"
   ]
  },
  {
   "cell_type": "code",
   "execution_count": 29,
   "id": "36d75cb5",
   "metadata": {},
   "outputs": [],
   "source": [
    "train_df.to_pickle(target_data_path + 'train.pkl')\n",
    "val_df.to_pickle(target_data_path + 'val.pkl')\n",
    "test_df.to_pickle(target_data_path + 'test.pkl')"
   ]
  },
  {
   "cell_type": "code",
   "execution_count": null,
   "id": "a7e2ae6b",
   "metadata": {},
   "outputs": [],
   "source": []
  }
 ],
 "metadata": {
  "kernelspec": {
   "display_name": "Python 3 (ipykernel)",
   "language": "python",
   "name": "python3"
  },
  "language_info": {
   "codemirror_mode": {
    "name": "ipython",
    "version": 3
   },
   "file_extension": ".py",
   "mimetype": "text/x-python",
   "name": "python",
   "nbconvert_exporter": "python",
   "pygments_lexer": "ipython3",
   "version": "3.9.15"
  }
 },
 "nbformat": 4,
 "nbformat_minor": 5
}
