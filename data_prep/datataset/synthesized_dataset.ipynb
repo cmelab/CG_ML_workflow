{
 "cells": [
  {
   "cell_type": "code",
   "execution_count": 1,
   "id": "1ffd1939",
   "metadata": {},
   "outputs": [],
   "source": [
    "import h5py\n",
    "import numpy as np\n",
    "import pandas as pd"
   ]
  },
  {
   "cell_type": "code",
   "execution_count": 2,
   "id": "3e404c66",
   "metadata": {},
   "outputs": [],
   "source": [
    "rigid_traj_path = \"/home/marjanalbooyeh/code/cme-lab/ML_datasets/pps_synthesized_Feb22/raw_data/pps_2_synthesized.pkl\""
   ]
  },
  {
   "cell_type": "code",
   "execution_count": 3,
   "id": "849e5959",
   "metadata": {},
   "outputs": [],
   "source": [
    "traj_df = pd.read_pickle(rigid_traj_path)"
   ]
  },
  {
   "cell_type": "code",
   "execution_count": 4,
   "id": "2867eff4",
   "metadata": {},
   "outputs": [
    {
     "data": {
      "text/html": [
       "<div>\n",
       "<style scoped>\n",
       "    .dataframe tbody tr th:only-of-type {\n",
       "        vertical-align: middle;\n",
       "    }\n",
       "\n",
       "    .dataframe tbody tr th {\n",
       "        vertical-align: top;\n",
       "    }\n",
       "\n",
       "    .dataframe thead th {\n",
       "        text-align: right;\n",
       "    }\n",
       "</style>\n",
       "<table border=\"1\" class=\"dataframe\">\n",
       "  <thead>\n",
       "    <tr style=\"text-align: right;\">\n",
       "      <th></th>\n",
       "      <th>position</th>\n",
       "      <th>orientation</th>\n",
       "      <th>net_force</th>\n",
       "      <th>net_torque</th>\n",
       "    </tr>\n",
       "  </thead>\n",
       "  <tbody>\n",
       "    <tr>\n",
       "      <th>0</th>\n",
       "      <td>[[-1.6666666666666663, 0.0, 0.0], [1.666666666...</td>\n",
       "      <td>[[1.1629627155093218, -0.823231901681715, -0.2...</td>\n",
       "      <td>[[7.64301178584266, -0.31205362619479227, 1.13...</td>\n",
       "      <td>[[0.04585481158910354, 0.11007478669235204, 0....</td>\n",
       "    </tr>\n",
       "    <tr>\n",
       "      <th>1</th>\n",
       "      <td>[[-1.6633778807137856, -0.10465086588218893, 0...</td>\n",
       "      <td>[[1.1629627155093218, -0.823231901681715, -0.2...</td>\n",
       "      <td>[[7.6415608983812975, -0.3117192085404199, 1.1...</td>\n",
       "      <td>[[0.04586339378776512, 0.11023990240474246, 0....</td>\n",
       "    </tr>\n",
       "    <tr>\n",
       "      <th>2</th>\n",
       "      <td>[[-1.653524502190796, -0.20888872260717373, 0....</td>\n",
       "      <td>[[1.1629627155093218, -0.823231901681715, -0.2...</td>\n",
       "      <td>[[7.732520786950661, 0.14333786968591358, 1.16...</td>\n",
       "      <td>[[0.04971305100788497, 0.13525972140051673, -0...</td>\n",
       "    </tr>\n",
       "    <tr>\n",
       "      <th>3</th>\n",
       "      <td>[[-1.6371454178811475, -0.31230219097620765, 0...</td>\n",
       "      <td>[[1.1629627155093218, -0.823231901681715, -0.2...</td>\n",
       "      <td>[[7.781088234238836, 0.6089946471746575, 1.186...</td>\n",
       "      <td>[[0.05032808804591867, 0.1523409884118786, -0....</td>\n",
       "    </tr>\n",
       "    <tr>\n",
       "      <th>4</th>\n",
       "      <td>[[-1.6143052685477182, -0.4144831452747579, 0....</td>\n",
       "      <td>[[1.1629627155093218, -0.823231901681715, -0.2...</td>\n",
       "      <td>[[7.782221928407405, 1.0818363459824312, 1.210...</td>\n",
       "      <td>[[0.048735934048617285, 0.15997658323323186, -...</td>\n",
       "    </tr>\n",
       "  </tbody>\n",
       "</table>\n",
       "</div>"
      ],
      "text/plain": [
       "                                            position  \\\n",
       "0  [[-1.6666666666666663, 0.0, 0.0], [1.666666666...   \n",
       "1  [[-1.6633778807137856, -0.10465086588218893, 0...   \n",
       "2  [[-1.653524502190796, -0.20888872260717373, 0....   \n",
       "3  [[-1.6371454178811475, -0.31230219097620765, 0...   \n",
       "4  [[-1.6143052685477182, -0.4144831452747579, 0....   \n",
       "\n",
       "                                         orientation  \\\n",
       "0  [[1.1629627155093218, -0.823231901681715, -0.2...   \n",
       "1  [[1.1629627155093218, -0.823231901681715, -0.2...   \n",
       "2  [[1.1629627155093218, -0.823231901681715, -0.2...   \n",
       "3  [[1.1629627155093218, -0.823231901681715, -0.2...   \n",
       "4  [[1.1629627155093218, -0.823231901681715, -0.2...   \n",
       "\n",
       "                                           net_force  \\\n",
       "0  [[7.64301178584266, -0.31205362619479227, 1.13...   \n",
       "1  [[7.6415608983812975, -0.3117192085404199, 1.1...   \n",
       "2  [[7.732520786950661, 0.14333786968591358, 1.16...   \n",
       "3  [[7.781088234238836, 0.6089946471746575, 1.186...   \n",
       "4  [[7.782221928407405, 1.0818363459824312, 1.210...   \n",
       "\n",
       "                                          net_torque  \n",
       "0  [[0.04585481158910354, 0.11007478669235204, 0....  \n",
       "1  [[0.04586339378776512, 0.11023990240474246, 0....  \n",
       "2  [[0.04971305100788497, 0.13525972140051673, -0...  \n",
       "3  [[0.05032808804591867, 0.1523409884118786, -0....  \n",
       "4  [[0.048735934048617285, 0.15997658323323186, -...  "
      ]
     },
     "execution_count": 4,
     "metadata": {},
     "output_type": "execute_result"
    }
   ],
   "source": [
    "traj_df.head()"
   ]
  },
  {
   "cell_type": "code",
   "execution_count": 5,
   "id": "4decb8e0",
   "metadata": {},
   "outputs": [],
   "source": [
    "#shuffle order of frames\n",
    "traj_df = traj_df.sample(frac=1).reset_index(drop=True)"
   ]
  },
  {
   "cell_type": "markdown",
   "id": "7b6eec4e",
   "metadata": {},
   "source": [
    "### Split dataset \n"
   ]
  },
  {
   "cell_type": "code",
   "execution_count": 6,
   "id": "33424d46",
   "metadata": {},
   "outputs": [],
   "source": [
    "test_frac = 0.1\n",
    "val_frac = 0.1"
   ]
  },
  {
   "cell_type": "code",
   "execution_count": 7,
   "id": "5c833d6f",
   "metadata": {},
   "outputs": [],
   "source": [
    "dataset_len = traj_df.shape[0]\n",
    "test_len = int(dataset_len * test_frac)\n",
    "val_len = int(dataset_len * val_frac)\n"
   ]
  },
  {
   "cell_type": "code",
   "execution_count": 8,
   "id": "98fa496b",
   "metadata": {},
   "outputs": [],
   "source": [
    "test_df = traj_df.loc[:test_len]"
   ]
  },
  {
   "cell_type": "code",
   "execution_count": 9,
   "id": "78eea5da",
   "metadata": {},
   "outputs": [],
   "source": [
    "val_df = traj_df.loc[test_len: test_len + val_len]"
   ]
  },
  {
   "cell_type": "code",
   "execution_count": 10,
   "id": "34349b1b",
   "metadata": {},
   "outputs": [],
   "source": [
    "train_df = traj_df.loc[test_len + val_len:]"
   ]
  },
  {
   "cell_type": "code",
   "execution_count": 11,
   "id": "ff90c604",
   "metadata": {},
   "outputs": [
    {
     "data": {
      "text/plain": [
       "(15001, 4)"
      ]
     },
     "execution_count": 11,
     "metadata": {},
     "output_type": "execute_result"
    }
   ],
   "source": [
    "test_df.shape"
   ]
  },
  {
   "cell_type": "code",
   "execution_count": 12,
   "id": "c0ca6ef4",
   "metadata": {},
   "outputs": [
    {
     "data": {
      "text/plain": [
       "(120000, 4)"
      ]
     },
     "execution_count": 12,
     "metadata": {},
     "output_type": "execute_result"
    }
   ],
   "source": [
    "train_df.shape"
   ]
  },
  {
   "cell_type": "code",
   "execution_count": 13,
   "id": "5a3c8a37",
   "metadata": {},
   "outputs": [
    {
     "data": {
      "text/plain": [
       "(15001, 4)"
      ]
     },
     "execution_count": 13,
     "metadata": {},
     "output_type": "execute_result"
    }
   ],
   "source": [
    "val_df.shape"
   ]
  },
  {
   "cell_type": "code",
   "execution_count": 16,
   "id": "a6a4f1d9",
   "metadata": {},
   "outputs": [],
   "source": [
    "target_data_path = '/home/marjanalbooyeh/code/cme-lab/ML_datasets/pps_synthesized_Feb22/processed/'\n",
    "import os\n",
    "if not os.path.exists(target_data_path):\n",
    "    os.mkdir(target_data_path)"
   ]
  },
  {
   "cell_type": "code",
   "execution_count": 17,
   "id": "dfb6b83f",
   "metadata": {},
   "outputs": [],
   "source": [
    "train_df.to_pickle(target_data_path + 'train.pkl')\n",
    "val_df.to_pickle(target_data_path + 'val.pkl')\n",
    "test_df.to_pickle(target_data_path + 'test.pkl')"
   ]
  },
  {
   "cell_type": "code",
   "execution_count": null,
   "id": "2dae873e",
   "metadata": {},
   "outputs": [],
   "source": []
  }
 ],
 "metadata": {
  "kernelspec": {
   "display_name": "Python 3 (ipykernel)",
   "language": "python",
   "name": "python3"
  },
  "language_info": {
   "codemirror_mode": {
    "name": "ipython",
    "version": 3
   },
   "file_extension": ".py",
   "mimetype": "text/x-python",
   "name": "python",
   "nbconvert_exporter": "python",
   "pygments_lexer": "ipython3",
   "version": "3.9.15"
  }
 },
 "nbformat": 4,
 "nbformat_minor": 5
}
