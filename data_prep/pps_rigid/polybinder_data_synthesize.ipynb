{
 "cells": [
  {
   "cell_type": "code",
   "execution_count": 54,
   "id": "2db7c0d5",
   "metadata": {},
   "outputs": [],
   "source": [
    "from polybinder.system import System, Initializer\n",
    "from polybinder.simulate import Simulation\n",
    "import mbuild as mb\n",
    "import hoomd\n",
    "from mbuild.formats.hoomd_forcefield import to_hoomdsnapshot\n",
    "import numpy as np"
   ]
  },
  {
   "cell_type": "code",
   "execution_count": 55,
   "id": "c12cb215",
   "metadata": {},
   "outputs": [],
   "source": [
    "import warnings\n",
    "warnings.filterwarnings(\"ignore\")"
   ]
  },
  {
   "cell_type": "code",
   "execution_count": 56,
   "id": "9cdf2417",
   "metadata": {},
   "outputs": [],
   "source": [
    "## set parameters\n",
    "dt = 0.0003\n",
    "tau_kT = 10\n",
    "kT = 1.5"
   ]
  },
  {
   "cell_type": "code",
   "execution_count": 57,
   "id": "5822b7a2",
   "metadata": {},
   "outputs": [],
   "source": [
    "system_params = System(density=0.01,\n",
    "                    molecule=\"PPS\",\n",
    "                    polymer_lengths=1,\n",
    "                    n_compounds=10,\n",
    "                    para_weight=1.0,\n",
    "                   )"
   ]
  },
  {
   "cell_type": "code",
   "execution_count": null,
   "id": "3498aae4",
   "metadata": {},
   "outputs": [],
   "source": []
  },
  {
   "cell_type": "code",
   "execution_count": 58,
   "id": "b23b634c",
   "metadata": {},
   "outputs": [
    {
     "name": "stdout",
     "output_type": "stream",
     "text": [
      "Removing hydrogens and adjusting heavy atoms\n",
      "---------------------------------------------------------------\n",
      "make rigid snap...\n"
     ]
    }
   ],
   "source": [
    "PPS_system_saved = Initializer(system=system_params,\n",
    "                        system_type='stack',\n",
    "                        remove_hydrogens=True,\n",
    "                        n_rigid_beads=system_params.polymer_lengths[0] * system_params.n_compounds[0],\n",
    "                        rigid_bead_len=7,\n",
    "                        rigid_bead_names=['R1', 'R2'],\n",
    "                        separation=0.6,\n",
    "                        forcefield=\"opls\",\n",
    "                        save_parmed=False\n",
    "                              )"
   ]
  },
  {
   "cell_type": "code",
   "execution_count": 59,
   "id": "8c45083e",
   "metadata": {},
   "outputs": [],
   "source": [
    "import os\n",
    "from datetime import datetime\n",
    "log_dir = \"/home/marjanalbooyeh/logs/pps_rigid/\"\n",
    "now = datetime.now()\n",
    "log_path = os.path.join(log_dir, now.strftime(\"%Y-%m-%d-%H:%M:%S\")) + '/'\n",
    "\n",
    "\n",
    "if not os.path.exists(log_path):\n",
    "    os.mkdir(log_path)"
   ]
  },
  {
   "cell_type": "code",
   "execution_count": null,
   "id": "d3b92704",
   "metadata": {},
   "outputs": [],
   "source": []
  },
  {
   "cell_type": "code",
   "execution_count": 60,
   "id": "21e41b9a",
   "metadata": {},
   "outputs": [
    {
     "name": "stdout",
     "output_type": "stream",
     "text": [
      "Processing LJ and QQ\n",
      "No charged groups found, ignoring electrostatics\n",
      "Processing 1-4 interactions, adjusting neighborlist exclusions\n",
      "Processing harmonic bonds\n",
      "Processing harmonic angles\n",
      "Processing RB torsions\n",
      "body_name:  R2\n",
      "body_name:  R2\n",
      "body_name:  R2\n",
      "body_name:  R2\n",
      "body_name:  R2\n",
      "body_name:  R2\n",
      "body_name:  R2\n",
      "body_name:  R2\n",
      "body_name:  R2\n",
      "body_name:  R2\n"
     ]
    }
   ],
   "source": [
    "simulation = Simulation(system=PPS_system_saved, dt=dt, tau_kt=tau_kT, logs_path=log_path, gsd_write=1000, log_write=1000)"
   ]
  },
  {
   "cell_type": "code",
   "execution_count": 123,
   "id": "46fa0b4e",
   "metadata": {},
   "outputs": [],
   "source": [
    "simulation.sim.operations.integrator.forces[0].nlist.exclusions.extend(['body'])"
   ]
  },
  {
   "cell_type": "code",
   "execution_count": 61,
   "id": "10e81fa7",
   "metadata": {},
   "outputs": [],
   "source": [
    "for i, force in enumerate(simulation.sim.operations.integrator.forces):\n",
    "#     if isinstance(force, hoomd.md.pair.LJ):\n",
    "#         for t in snapshot.particles.types:\n",
    "#             for r in ['R1', 'R2']:\n",
    "#                 force.params[(r, t)] = dict(epsilon=0, sigma=0)\n",
    "#                 force.r_cut[(r, t)] = 0\n",
    "    if isinstance(force, hoomd.md.special_pair.LJ):\n",
    "        for k in force.params.keys():\n",
    "            force.params[k] = dict(epsilon=0., sigma=0.)\n",
    "    if isinstance(force, hoomd.md.bond.Harmonic):\n",
    "        for k in force.params.keys():\n",
    "            force.params[k] = dict(k=0, r0=0)\n",
    "    if isinstance(force, hoomd.md.angle.Harmonic):\n",
    "        for k in force.params.keys():\n",
    "            force.params[k] = dict(t0=0, k=0)\n",
    "    if isinstance(force, hoomd.md.dihedral.Harmonic):\n",
    "        for k in force.params.keys():\n",
    "            force.params[k] = dict(k=0, d=0, n=0, phi0=0)"
   ]
  },
  {
   "cell_type": "code",
   "execution_count": 12,
   "id": "1f9169e3",
   "metadata": {},
   "outputs": [],
   "source": [
    "simulation.quench(n_steps=1, kT=kT)"
   ]
  },
  {
   "cell_type": "code",
   "execution_count": 62,
   "id": "b66796da",
   "metadata": {},
   "outputs": [
    {
     "name": "stderr",
     "output_type": "stream",
     "text": [
      "*Warning*: angle.harmonic: specified K <= 0\n",
      "*Warning*: angle.harmonic: specified t_0 <= 0\n",
      "*Warning*: angle.harmonic: specified K <= 0\n",
      "*Warning*: angle.harmonic: specified t_0 <= 0\n"
     ]
    }
   ],
   "source": [
    "simulation.quench(n_steps=2e6, kT=kT)"
   ]
  },
  {
   "cell_type": "code",
   "execution_count": 42,
   "id": "70762498",
   "metadata": {},
   "outputs": [
    {
     "data": {
      "text/plain": [
       "'/home/marjanalbooyeh/logs/pps_rigid/2023-03-09-13:40:38/'"
      ]
     },
     "execution_count": 42,
     "metadata": {},
     "output_type": "execute_result"
    }
   ],
   "source": [
    "log_path"
   ]
  },
  {
   "cell_type": "code",
   "execution_count": 11,
   "id": "e3710151",
   "metadata": {},
   "outputs": [
    {
     "data": {
      "text/plain": [
       "10000"
      ]
     },
     "execution_count": 11,
     "metadata": {},
     "output_type": "execute_result"
    }
   ],
   "source": [
    "simulation.sim.timestep"
   ]
  },
  {
   "cell_type": "code",
   "execution_count": 44,
   "id": "5bdbe5ab",
   "metadata": {},
   "outputs": [],
   "source": [
    "\n",
    "simulation.sim.operations.writers[-1].file.close()"
   ]
  },
  {
   "cell_type": "markdown",
   "id": "344b8965",
   "metadata": {},
   "source": [
    "### prepare data"
   ]
  },
  {
   "cell_type": "code",
   "execution_count": 18,
   "id": "34926097",
   "metadata": {},
   "outputs": [],
   "source": [
    "import h5py\n",
    "import numpy as np\n",
    "import pandas as pd\n",
    "# log_path = '/home/marjanalbooyeh/logs/pps_rigid/2023-02-22-14:22:25/'"
   ]
  },
  {
   "cell_type": "code",
   "execution_count": 19,
   "id": "e9e0d564",
   "metadata": {},
   "outputs": [],
   "source": [
    "rigid_traj_path = log_path + 'rigid_traj.h5'\n",
    "f = h5py.File(rigid_traj_path, 'r')"
   ]
  },
  {
   "cell_type": "code",
   "execution_count": 20,
   "id": "7e121850",
   "metadata": {},
   "outputs": [],
   "source": [
    "traj_df = pd.DataFrame()\n",
    "for frame in f.keys():\n",
    "    dset = dict(f[frame])\n",
    "    dset = {key: np.array(value) for key, value in dset.items()}\n",
    "    dset['timestep'] = f[frame].attrs['timestep']\n",
    "    traj_df = traj_df.append(dset, ignore_index=True)"
   ]
  },
  {
   "cell_type": "code",
   "execution_count": 21,
   "id": "83ae53aa",
   "metadata": {},
   "outputs": [],
   "source": [
    "f.close()"
   ]
  },
  {
   "cell_type": "code",
   "execution_count": 22,
   "id": "77b537c6",
   "metadata": {},
   "outputs": [
    {
     "data": {
      "text/html": [
       "<div>\n",
       "<style scoped>\n",
       "    .dataframe tbody tr th:only-of-type {\n",
       "        vertical-align: middle;\n",
       "    }\n",
       "\n",
       "    .dataframe tbody tr th {\n",
       "        vertical-align: top;\n",
       "    }\n",
       "\n",
       "    .dataframe thead th {\n",
       "        text-align: right;\n",
       "    }\n",
       "</style>\n",
       "<table border=\"1\" class=\"dataframe\">\n",
       "  <thead>\n",
       "    <tr style=\"text-align: right;\">\n",
       "      <th></th>\n",
       "      <th>net_force</th>\n",
       "      <th>net_torque</th>\n",
       "      <th>orientation</th>\n",
       "      <th>position</th>\n",
       "      <th>timestep</th>\n",
       "    </tr>\n",
       "  </thead>\n",
       "  <tbody>\n",
       "    <tr>\n",
       "      <th>0</th>\n",
       "      <td>[[2.3195248836672344, -0.016961836506932768, 0...</td>\n",
       "      <td>[[-0.0016085701309671166, -0.25658213305082583...</td>\n",
       "      <td>[[1.0, 0.0, 0.0, 0.0], [1.0, 0.0, 0.0, 0.0]]</td>\n",
       "      <td>[[-1.0034769895991462, -0.0010186344033643584,...</td>\n",
       "      <td>0</td>\n",
       "    </tr>\n",
       "    <tr>\n",
       "      <th>1</th>\n",
       "      <td>[[11.760050725530498, 17.9702858482377, 28.403...</td>\n",
       "      <td>[[22.170426593418913, -13.609429331768359, -2....</td>\n",
       "      <td>[[-0.3553022009380696, -0.5269938769149056, -0...</td>\n",
       "      <td>[[0.06090373476765563, -0.1774404145755944, 0....</td>\n",
       "      <td>9000</td>\n",
       "    </tr>\n",
       "    <tr>\n",
       "      <th>2</th>\n",
       "      <td>[[0.0, 0.0, 0.0], [0.0, 0.0, 0.0]]</td>\n",
       "      <td>[[-2.7338835405579798e-17, 1.7412964516475005e...</td>\n",
       "      <td>[[-0.6926463069144344, -0.5109427186714979, 0....</td>\n",
       "      <td>[[-4.608168493579463, 2.177932632556924, 0.706...</td>\n",
       "      <td>99000</td>\n",
       "    </tr>\n",
       "    <tr>\n",
       "      <th>3</th>\n",
       "      <td>[[0.0, 0.0, 0.0], [0.0, 0.0, 0.0]]</td>\n",
       "      <td>[[-2.2156687834277988e-16, -4.147920342704309e...</td>\n",
       "      <td>[[-0.30886829650599484, 0.9139738003793408, 0....</td>\n",
       "      <td>[[1.5617890874290794, -3.6638066667130356, 1.8...</td>\n",
       "      <td>999000</td>\n",
       "    </tr>\n",
       "    <tr>\n",
       "      <th>4</th>\n",
       "      <td>[[0.0, 0.0, 0.0], [0.0, 0.0, 0.0]]</td>\n",
       "      <td>[[2.2546322990014966e-16, -1.8903318987168946e...</td>\n",
       "      <td>[[-0.22783384176885263, 0.7715583648236748, 0....</td>\n",
       "      <td>[[1.855570306598415, -4.017858712899107, 1.506...</td>\n",
       "      <td>1000000</td>\n",
       "    </tr>\n",
       "  </tbody>\n",
       "</table>\n",
       "</div>"
      ],
      "text/plain": [
       "                                           net_force  \\\n",
       "0  [[2.3195248836672344, -0.016961836506932768, 0...   \n",
       "1  [[11.760050725530498, 17.9702858482377, 28.403...   \n",
       "2                 [[0.0, 0.0, 0.0], [0.0, 0.0, 0.0]]   \n",
       "3                 [[0.0, 0.0, 0.0], [0.0, 0.0, 0.0]]   \n",
       "4                 [[0.0, 0.0, 0.0], [0.0, 0.0, 0.0]]   \n",
       "\n",
       "                                          net_torque  \\\n",
       "0  [[-0.0016085701309671166, -0.25658213305082583...   \n",
       "1  [[22.170426593418913, -13.609429331768359, -2....   \n",
       "2  [[-2.7338835405579798e-17, 1.7412964516475005e...   \n",
       "3  [[-2.2156687834277988e-16, -4.147920342704309e...   \n",
       "4  [[2.2546322990014966e-16, -1.8903318987168946e...   \n",
       "\n",
       "                                         orientation  \\\n",
       "0       [[1.0, 0.0, 0.0, 0.0], [1.0, 0.0, 0.0, 0.0]]   \n",
       "1  [[-0.3553022009380696, -0.5269938769149056, -0...   \n",
       "2  [[-0.6926463069144344, -0.5109427186714979, 0....   \n",
       "3  [[-0.30886829650599484, 0.9139738003793408, 0....   \n",
       "4  [[-0.22783384176885263, 0.7715583648236748, 0....   \n",
       "\n",
       "                                            position  timestep  \n",
       "0  [[-1.0034769895991462, -0.0010186344033643584,...         0  \n",
       "1  [[0.06090373476765563, -0.1774404145755944, 0....      9000  \n",
       "2  [[-4.608168493579463, 2.177932632556924, 0.706...     99000  \n",
       "3  [[1.5617890874290794, -3.6638066667130356, 1.8...    999000  \n",
       "4  [[1.855570306598415, -4.017858712899107, 1.506...   1000000  "
      ]
     },
     "execution_count": 22,
     "metadata": {},
     "output_type": "execute_result"
    }
   ],
   "source": [
    "traj_df.head()"
   ]
  },
  {
   "cell_type": "code",
   "execution_count": 76,
   "id": "5c5d26a8",
   "metadata": {},
   "outputs": [],
   "source": [
    "positions = np.asarray(traj_df[\"position\"].tolist())\n",
    "orientations = np.asarray(traj_df[\"orientation\"].tolist())"
   ]
  },
  {
   "cell_type": "code",
   "execution_count": 77,
   "id": "9351d587",
   "metadata": {},
   "outputs": [],
   "source": [
    "rel_positions = np.zeros_like(positions)\n",
    "rel_positions[:, 0, :] = positions[:, 0, :] - positions[:, 1, :]\n",
    "rel_positions[:, 1, :] = positions[:, 1, :] - positions[:, 0, :]"
   ]
  },
  {
   "cell_type": "code",
   "execution_count": 78,
   "id": "b10a1e3e",
   "metadata": {},
   "outputs": [],
   "source": [
    "rel_orientations = np.zeros_like(orientations)\n",
    "rel_orientations[:, 0, :] = orientations[:, 0, :] - orientations[:, 1, :]\n",
    "rel_orientations[:, 1, :] = orientations[:, 1, :] - orientations[:, 0, :]"
   ]
  },
  {
   "cell_type": "code",
   "execution_count": 79,
   "id": "e07ea6a8",
   "metadata": {},
   "outputs": [],
   "source": [
    "columns = [\n",
    "    \"position\",\n",
    "    \"orientation\",\n",
    "    \"net_force\",\n",
    "    \"net_torque\",\n",
    "]\n",
    "\n",
    "import pandas as pd\n",
    "new_traj_df = pd.DataFrame(columns=columns)"
   ]
  },
  {
   "cell_type": "code",
   "execution_count": 80,
   "id": "2c05b30e",
   "metadata": {},
   "outputs": [],
   "source": [
    "new_traj_df[\"position\"] = rel_positions.tolist()\n",
    "new_traj_df[\"orientation\"] = rel_orientations.tolist()\n",
    "new_traj_df[\"net_force\"] = traj_df[\"net_force\"].tolist()\n",
    "new_traj_df[\"net_torque\"] = traj_df[\"net_torque\"].tolist()"
   ]
  },
  {
   "cell_type": "code",
   "execution_count": 81,
   "id": "d51d7085",
   "metadata": {},
   "outputs": [
    {
     "data": {
      "text/html": [
       "<div>\n",
       "<style scoped>\n",
       "    .dataframe tbody tr th:only-of-type {\n",
       "        vertical-align: middle;\n",
       "    }\n",
       "\n",
       "    .dataframe tbody tr th {\n",
       "        vertical-align: top;\n",
       "    }\n",
       "\n",
       "    .dataframe thead th {\n",
       "        text-align: right;\n",
       "    }\n",
       "</style>\n",
       "<table border=\"1\" class=\"dataframe\">\n",
       "  <thead>\n",
       "    <tr style=\"text-align: right;\">\n",
       "      <th></th>\n",
       "      <th>position</th>\n",
       "      <th>orientation</th>\n",
       "      <th>net_force</th>\n",
       "      <th>net_torque</th>\n",
       "    </tr>\n",
       "  </thead>\n",
       "  <tbody>\n",
       "    <tr>\n",
       "      <th>0</th>\n",
       "      <td>[[-2.244924096618746, 0.0, 0.0], [2.2449240966...</td>\n",
       "      <td>[[0.0, 0.0, 0.0, 0.0], [0.0, 0.0, 0.0, 0.0]]</td>\n",
       "      <td>[[0.9619755684694091, -0.00593004320234769, 0....</td>\n",
       "      <td>[[-0.0005679807434297857, -0.12818891765945012...</td>\n",
       "    </tr>\n",
       "    <tr>\n",
       "      <th>1</th>\n",
       "      <td>[[1.6710277973776102, 1.091021141733464, 1.108...</td>\n",
       "      <td>[[-0.7789667048026656, 0.9322633644617142, 0.3...</td>\n",
       "      <td>[[-4.444279903935069, -2.4822420121960818, -1....</td>\n",
       "      <td>[[-0.4545146836770524, 1.1319537690556642, -0....</td>\n",
       "    </tr>\n",
       "    <tr>\n",
       "      <th>2</th>\n",
       "      <td>[[2.8853238552283083, 8.54345629425984, 7.9942...</td>\n",
       "      <td>[[0.532382931775278, -0.6795385700817432, -0.4...</td>\n",
       "      <td>[[0.0, 0.0, 0.0], [0.0, 0.0, 0.0]]</td>\n",
       "      <td>[[3.17822301809656e-09, -2.0108714693378715e-0...</td>\n",
       "    </tr>\n",
       "    <tr>\n",
       "      <th>3</th>\n",
       "      <td>[[4.504938525363006, -2.556042073814547, 8.119...</td>\n",
       "      <td>[[-0.31869885059382874, -0.19245421931668943, ...</td>\n",
       "      <td>[[-1.4210854715202004e-14, 3.552713678800501e-...</td>\n",
       "      <td>[[2.891573203100961e-09, -4.5065284837164654e-...</td>\n",
       "    </tr>\n",
       "    <tr>\n",
       "      <th>4</th>\n",
       "      <td>[[4.5721037279064145, -2.5121251836981173, 8.0...</td>\n",
       "      <td>[[-0.4168202372222529, -0.20519349667960213, 0...</td>\n",
       "      <td>[[0.0, -2.1316282072803006e-14, 0.0], [-2.8421...</td>\n",
       "      <td>[[1.783567071811376e-09, 8.644800431056865e-10...</td>\n",
       "    </tr>\n",
       "  </tbody>\n",
       "</table>\n",
       "</div>"
      ],
      "text/plain": [
       "                                            position  \\\n",
       "0  [[-2.244924096618746, 0.0, 0.0], [2.2449240966...   \n",
       "1  [[1.6710277973776102, 1.091021141733464, 1.108...   \n",
       "2  [[2.8853238552283083, 8.54345629425984, 7.9942...   \n",
       "3  [[4.504938525363006, -2.556042073814547, 8.119...   \n",
       "4  [[4.5721037279064145, -2.5121251836981173, 8.0...   \n",
       "\n",
       "                                         orientation  \\\n",
       "0       [[0.0, 0.0, 0.0, 0.0], [0.0, 0.0, 0.0, 0.0]]   \n",
       "1  [[-0.7789667048026656, 0.9322633644617142, 0.3...   \n",
       "2  [[0.532382931775278, -0.6795385700817432, -0.4...   \n",
       "3  [[-0.31869885059382874, -0.19245421931668943, ...   \n",
       "4  [[-0.4168202372222529, -0.20519349667960213, 0...   \n",
       "\n",
       "                                           net_force  \\\n",
       "0  [[0.9619755684694091, -0.00593004320234769, 0....   \n",
       "1  [[-4.444279903935069, -2.4822420121960818, -1....   \n",
       "2                 [[0.0, 0.0, 0.0], [0.0, 0.0, 0.0]]   \n",
       "3  [[-1.4210854715202004e-14, 3.552713678800501e-...   \n",
       "4  [[0.0, -2.1316282072803006e-14, 0.0], [-2.8421...   \n",
       "\n",
       "                                          net_torque  \n",
       "0  [[-0.0005679807434297857, -0.12818891765945012...  \n",
       "1  [[-0.4545146836770524, 1.1319537690556642, -0....  \n",
       "2  [[3.17822301809656e-09, -2.0108714693378715e-0...  \n",
       "3  [[2.891573203100961e-09, -4.5065284837164654e-...  \n",
       "4  [[1.783567071811376e-09, 8.644800431056865e-10...  "
      ]
     },
     "execution_count": 81,
     "metadata": {},
     "output_type": "execute_result"
    }
   ],
   "source": [
    "new_traj_df.head()"
   ]
  },
  {
   "cell_type": "code",
   "execution_count": 84,
   "id": "026c82f0",
   "metadata": {},
   "outputs": [],
   "source": [
    "traj_df.to_pickle(\"/home/marjanalbooyeh/code/cme-lab/ML_datasets/pps_rigid_Feb22_2/raw_data/pps_rigid_2.pkl\")"
   ]
  },
  {
   "cell_type": "code",
   "execution_count": null,
   "id": "7c2293d6",
   "metadata": {},
   "outputs": [],
   "source": []
  }
 ],
 "metadata": {
  "kernelspec": {
   "display_name": "Python 3 (ipykernel)",
   "language": "python",
   "name": "python3"
  },
  "language_info": {
   "codemirror_mode": {
    "name": "ipython",
    "version": 3
   },
   "file_extension": ".py",
   "mimetype": "text/x-python",
   "name": "python",
   "nbconvert_exporter": "python",
   "pygments_lexer": "ipython3",
   "version": "3.9.15"
  }
 },
 "nbformat": 4,
 "nbformat_minor": 5
}
