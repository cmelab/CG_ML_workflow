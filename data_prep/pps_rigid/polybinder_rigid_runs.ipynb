{
 "cells": [
  {
   "cell_type": "code",
   "execution_count": 218,
   "id": "2db7c0d5",
   "metadata": {},
   "outputs": [],
   "source": [
    "from polybinder.system import System, Initializer\n",
    "from polybinder.simulate import Simulation\n",
    "import mbuild as mb\n",
    "import hoomd\n",
    "from mbuild.formats.hoomd_forcefield import to_hoomdsnapshot\n",
    "import numpy as np"
   ]
  },
  {
   "cell_type": "code",
   "execution_count": 219,
   "id": "c12cb215",
   "metadata": {},
   "outputs": [],
   "source": [
    "import warnings\n",
    "warnings.filterwarnings(\"ignore\")"
   ]
  },
  {
   "cell_type": "code",
   "execution_count": 220,
   "id": "9cdf2417",
   "metadata": {},
   "outputs": [],
   "source": [
    "## set parameters\n",
    "dt = 0.003\n",
    "tau_kT = 10\n",
    "kT = 1.5"
   ]
  },
  {
   "cell_type": "code",
   "execution_count": 221,
   "id": "5822b7a2",
   "metadata": {},
   "outputs": [],
   "source": [
    "system_params = System(density=0.01,\n",
    "                    molecule=\"PPS\",\n",
    "                    polymer_lengths=1,\n",
    "                    n_compounds=5,\n",
    "                    para_weight=1.0,\n",
    "                   )"
   ]
  },
  {
   "cell_type": "code",
   "execution_count": null,
   "id": "3498aae4",
   "metadata": {},
   "outputs": [],
   "source": []
  },
  {
   "cell_type": "code",
   "execution_count": 222,
   "id": "b23b634c",
   "metadata": {},
   "outputs": [
    {
     "name": "stdout",
     "output_type": "stream",
     "text": [
      "Removing hydrogens and adjusting heavy atoms\n",
      "---------------------------------------------------------------\n",
      "make rigid snap...\n"
     ]
    }
   ],
   "source": [
    "PPS_system_saved = Initializer(system=system_params,\n",
    "                        system_type='stack',\n",
    "                        remove_hydrogens=True,\n",
    "                        n_rigid_beads=system_params.polymer_lengths[0] * system_params.n_compounds[0],\n",
    "                        rigid_bead_len=7,\n",
    "                        rigid_bead_names=['R1', 'R2'],\n",
    "                        separation=0.6,\n",
    "                        forcefield=\"opls\",\n",
    "                        save_parmed=False\n",
    "                              )"
   ]
  },
  {
   "cell_type": "code",
   "execution_count": 223,
   "id": "8c45083e",
   "metadata": {},
   "outputs": [],
   "source": [
    "import os\n",
    "from datetime import datetime\n",
    "log_dir = \"/home/marjanalbooyeh/logs/pps_rigid/\"\n",
    "now = datetime.now()\n",
    "log_path = os.path.join(log_dir, now.strftime(\"%Y-%m-%d-%H:%M:%S\")) + '/'\n",
    "\n",
    "\n",
    "if not os.path.exists(log_path):\n",
    "    os.mkdir(log_path)"
   ]
  },
  {
   "cell_type": "code",
   "execution_count": null,
   "id": "d3b92704",
   "metadata": {},
   "outputs": [],
   "source": []
  },
  {
   "cell_type": "code",
   "execution_count": 224,
   "id": "21e41b9a",
   "metadata": {},
   "outputs": [
    {
     "name": "stdout",
     "output_type": "stream",
     "text": [
      "Processing LJ and QQ\n",
      "No charged groups found, ignoring electrostatics\n",
      "Processing 1-4 interactions, adjusting neighborlist exclusions\n",
      "Processing harmonic bonds\n",
      "Processing harmonic angles\n",
      "Processing RB torsions\n",
      "body_name:  R2\n",
      "body_name:  R2\n",
      "body_name:  R2\n",
      "body_name:  R2\n",
      "body_name:  R2\n"
     ]
    }
   ],
   "source": [
    "simulation = Simulation(system=PPS_system_saved, dt=dt, tau_kt=tau_kT, logs_path=log_path, gsd_write=1000, log_write=1000)"
   ]
  },
  {
   "cell_type": "code",
   "execution_count": 123,
   "id": "38aa890d",
   "metadata": {},
   "outputs": [],
   "source": [
    "simulation.sim.operations.integrator.forces[0].nlist.exclusions.extend(['body'])"
   ]
  },
  {
   "cell_type": "code",
   "execution_count": 225,
   "id": "10e81fa7",
   "metadata": {},
   "outputs": [],
   "source": [
    "for i, force in enumerate(simulation.sim.operations.integrator.forces):\n",
    "#     if isinstance(force, hoomd.md.pair.LJ):\n",
    "#         for t in snapshot.particles.types:\n",
    "#             for r in ['R1', 'R2']:\n",
    "#                 force.params[(r, t)] = dict(epsilon=0, sigma=0)\n",
    "#                 force.r_cut[(r, t)] = 0\n",
    "    if isinstance(force, hoomd.md.special_pair.LJ):\n",
    "        for k in force.params.keys():\n",
    "            force.params[k] = dict(epsilon=0., sigma=0.)\n",
    "    if isinstance(force, hoomd.md.bond.Harmonic):\n",
    "        for k in force.params.keys():\n",
    "            force.params[k] = dict(k=0, r0=0)\n",
    "    if isinstance(force, hoomd.md.angle.Harmonic):\n",
    "        for k in force.params.keys():\n",
    "            force.params[k] = dict(t0=0, k=0)\n",
    "    if isinstance(force, hoomd.md.dihedral.Harmonic):\n",
    "        for k in force.params.keys():\n",
    "            force.params[k] = dict(k=0, d=0, n=0, phi0=0)"
   ]
  },
  {
   "cell_type": "code",
   "execution_count": 12,
   "id": "1f9169e3",
   "metadata": {},
   "outputs": [],
   "source": [
    "simulation.quench(n_steps=1, kT=kT)"
   ]
  },
  {
   "cell_type": "code",
   "execution_count": 226,
   "id": "b66796da",
   "metadata": {},
   "outputs": [
    {
     "name": "stderr",
     "output_type": "stream",
     "text": [
      "*Warning*: angle.harmonic: specified K <= 0\n",
      "*Warning*: angle.harmonic: specified t_0 <= 0\n",
      "*Warning*: angle.harmonic: specified K <= 0\n",
      "*Warning*: angle.harmonic: specified t_0 <= 0\n"
     ]
    }
   ],
   "source": [
    "simulation.quench(n_steps=10e6, kT=kT)"
   ]
  },
  {
   "cell_type": "code",
   "execution_count": 227,
   "id": "70762498",
   "metadata": {},
   "outputs": [
    {
     "data": {
      "text/plain": [
       "'/home/marjanalbooyeh/logs/pps_rigid/2023-03-09-18:47:47/'"
      ]
     },
     "execution_count": 227,
     "metadata": {},
     "output_type": "execute_result"
    }
   ],
   "source": [
    "log_path"
   ]
  },
  {
   "cell_type": "code",
   "execution_count": 72,
   "id": "e3710151",
   "metadata": {},
   "outputs": [
    {
     "data": {
      "text/plain": [
       "array([1, 1, 1, 1, 1, 1, 1, 1, 1, 1, 2, 2, 2, 2, 3, 2, 2, 2, 2, 2, 2, 3,\n",
       "       2, 2, 2, 2, 2, 2, 3, 2, 2, 2, 2, 2, 2, 3, 2, 2, 2, 2, 2, 2, 3, 2,\n",
       "       2, 2, 2, 2, 2, 3, 2, 2, 2, 2, 2, 2, 3, 2, 2, 2, 2, 2, 2, 3, 2, 2,\n",
       "       2, 2, 2, 2, 3, 2, 2, 2, 2, 2, 2, 3, 2, 2], dtype=uint32)"
      ]
     },
     "execution_count": 72,
     "metadata": {},
     "output_type": "execute_result"
    }
   ],
   "source": [
    "simulation.sim.state.get_snapshot().particles.typeid"
   ]
  },
  {
   "cell_type": "code",
   "execution_count": 228,
   "id": "5bdbe5ab",
   "metadata": {},
   "outputs": [],
   "source": [
    "\n",
    "simulation.sim.operations.writers[-1].file.close()"
   ]
  },
  {
   "cell_type": "markdown",
   "id": "344b8965",
   "metadata": {},
   "source": [
    "### prepare data"
   ]
  },
  {
   "cell_type": "code",
   "execution_count": 229,
   "id": "34926097",
   "metadata": {},
   "outputs": [],
   "source": [
    "import h5py\n",
    "import numpy as np\n",
    "import pandas as pd\n"
   ]
  },
  {
   "cell_type": "code",
   "execution_count": 230,
   "id": "e9e0d564",
   "metadata": {},
   "outputs": [],
   "source": [
    "rigid_traj_path = log_path + 'rigid_traj.h5'\n",
    "f = h5py.File(rigid_traj_path, 'r')"
   ]
  },
  {
   "cell_type": "code",
   "execution_count": 231,
   "id": "7e121850",
   "metadata": {},
   "outputs": [],
   "source": [
    "traj_df = pd.DataFrame()\n",
    "for frame in f.keys():\n",
    "    dset = dict(f[frame])\n",
    "    dset = {key: np.array(value) for key, value in dset.items()}\n",
    "    dset['timestep'] = f[frame].attrs['timestep']\n",
    "    traj_df = traj_df.append(dset, ignore_index=True)"
   ]
  },
  {
   "cell_type": "code",
   "execution_count": 232,
   "id": "83ae53aa",
   "metadata": {},
   "outputs": [],
   "source": [
    "f.close()"
   ]
  },
  {
   "cell_type": "markdown",
   "id": "585ae77d",
   "metadata": {},
   "source": []
  },
  {
   "cell_type": "code",
   "execution_count": 233,
   "id": "5c5d26a8",
   "metadata": {},
   "outputs": [],
   "source": [
    "positions = np.asarray(traj_df[\"position\"].tolist())\n",
    "orientations = np.asarray(traj_df[\"orientation\"].tolist())"
   ]
  },
  {
   "cell_type": "markdown",
   "id": "7915e964",
   "metadata": {},
   "source": [
    "### calculate rel. position to all other particles"
   ]
  },
  {
   "cell_type": "code",
   "execution_count": 234,
   "id": "22919f1d",
   "metadata": {},
   "outputs": [],
   "source": [
    "import rowan"
   ]
  },
  {
   "cell_type": "code",
   "execution_count": 235,
   "id": "7d31e8a6",
   "metadata": {},
   "outputs": [],
   "source": [
    "num_particles = positions.shape[1]\n",
    "rel_positions = np.zeros((positions.shape[0], positions.shape[1], positions.shape[1] - 1, positions.shape[2] + 1))\n",
    "rel_orientations = np.zeros((orientations.shape[0],orientations.shape[1], orientations.shape[1] - 1, orientations.shape[2] + 1))\n",
    "for j, (frame_positions, frame_orientations) in enumerate(zip(positions, orientations)):\n",
    "    for i in range(num_particles):\n",
    "        other_particles_idx = list(range(num_particles))\n",
    "        other_particles_idx.remove(i)\n",
    "        rel_positions[j,i, :, :3] = frame_positions[i] - frame_positions[other_particles_idx]\n",
    "        rel_positions[j, i, :, 3] = np.linalg.norm(frame_positions[i] - frame_positions[other_particles_idx], axis=1)\n",
    "\n",
    "            \n",
    "        rel_orientations[j, i, :, :4] = rowan.geometry.riemann_log_map(frame_orientations[i], frame_orientations[other_particles_idx])\n",
    "        rel_orientations[j, i, :, 4] = rowan.geometry.sym_intrinsic_distance(frame_orientations[i], frame_orientations[other_particles_idx])"
   ]
  },
  {
   "cell_type": "code",
   "execution_count": 236,
   "id": "fe221894",
   "metadata": {},
   "outputs": [
    {
     "data": {
      "text/plain": [
       "(10001, 5, 4, 5)"
      ]
     },
     "execution_count": 236,
     "metadata": {},
     "output_type": "execute_result"
    }
   ],
   "source": [
    "rel_orientations.shape"
   ]
  },
  {
   "cell_type": "code",
   "execution_count": 77,
   "id": "9351d587",
   "metadata": {},
   "outputs": [],
   "source": [
    "# rel_positions = np.zeros_like(positions)\n",
    "# rel_positions[:, 0, :] = positions[:, 0, :] - positions[:, 1, :]\n",
    "# rel_positions[:, 1, :] = positions[:, 1, :] - positions[:, 0, :]"
   ]
  },
  {
   "cell_type": "code",
   "execution_count": 78,
   "id": "b10a1e3e",
   "metadata": {},
   "outputs": [],
   "source": [
    "# rel_orientations = np.zeros_like(orientations)\n",
    "# rel_orientations[:, 0, :] = orientations[:, 0, :] - orientations[:, 1, :]\n",
    "# rel_orientations[:, 1, :] = orientations[:, 1, :] - orientations[:, 0, :]"
   ]
  },
  {
   "cell_type": "code",
   "execution_count": 237,
   "id": "e07ea6a8",
   "metadata": {},
   "outputs": [],
   "source": [
    "columns = [\n",
    "    \"position\",\n",
    "    \"orientation\",\n",
    "    \"net_force\",\n",
    "    \"net_torque\",\n",
    "]\n",
    "\n",
    "import pandas as pd\n",
    "new_traj_df = pd.DataFrame(columns=columns)"
   ]
  },
  {
   "cell_type": "code",
   "execution_count": 238,
   "id": "2c05b30e",
   "metadata": {},
   "outputs": [],
   "source": [
    "new_traj_df[\"position\"] = rel_positions.tolist()\n",
    "new_traj_df[\"orientation\"] = rel_orientations.tolist()\n",
    "new_traj_df[\"net_force\"] = traj_df[\"net_force\"].tolist()\n",
    "new_traj_df[\"net_torque\"] = traj_df[\"net_torque\"].tolist()"
   ]
  },
  {
   "cell_type": "code",
   "execution_count": 239,
   "id": "d51d7085",
   "metadata": {},
   "outputs": [],
   "source": [
    "#shuffle order of frames\n",
    "new_traj_df = new_traj_df.sample(frac=1).reset_index(drop=True)\n"
   ]
  },
  {
   "cell_type": "code",
   "execution_count": 240,
   "id": "fd88a0f8",
   "metadata": {},
   "outputs": [],
   "source": [
    "test_frac = 0.1\n",
    "val_frac = 0.1\n",
    "\n",
    "dataset_len = new_traj_df.shape[0]\n",
    "test_len = int(dataset_len * test_frac)\n",
    "val_len = int(dataset_len * val_frac)\n"
   ]
  },
  {
   "cell_type": "code",
   "execution_count": 241,
   "id": "2c6f41a2",
   "metadata": {},
   "outputs": [],
   "source": [
    "test_df = new_traj_df.loc[:test_len]\n",
    "\n",
    "val_df = new_traj_df.loc[test_len: test_len + val_len]\n",
    "\n",
    "train_df = new_traj_df.loc[test_len + val_len:]"
   ]
  },
  {
   "cell_type": "code",
   "execution_count": 242,
   "id": "f2f2c3f1",
   "metadata": {},
   "outputs": [
    {
     "data": {
      "text/plain": [
       "(8001, 4)"
      ]
     },
     "execution_count": 242,
     "metadata": {},
     "output_type": "execute_result"
    }
   ],
   "source": [
    "train_df.shape"
   ]
  },
  {
   "cell_type": "code",
   "execution_count": 243,
   "id": "c59c7903",
   "metadata": {},
   "outputs": [],
   "source": [
    "target_data_path = os.path.join(log_path, 'dataset')\n",
    "\n",
    "if not os.path.exists(target_data_path):\n",
    "    os.mkdir(target_data_path)"
   ]
  },
  {
   "cell_type": "code",
   "execution_count": 244,
   "id": "026c82f0",
   "metadata": {},
   "outputs": [],
   "source": [
    "train_df.to_pickle(os.path.join(target_data_path, 'train.pkl'))\n",
    "val_df.to_pickle(os.path.join(target_data_path, 'val.pkl'))\n",
    "test_df.to_pickle(os.path.join(target_data_path,'test.pkl'))"
   ]
  },
  {
   "cell_type": "code",
   "execution_count": 245,
   "id": "7c2293d6",
   "metadata": {},
   "outputs": [
    {
     "data": {
      "text/plain": [
       "'/home/marjanalbooyeh/logs/pps_rigid/2023-03-09-18:47:47/dataset'"
      ]
     },
     "execution_count": 245,
     "metadata": {},
     "output_type": "execute_result"
    }
   ],
   "source": [
    "target_data_path"
   ]
  }
 ],
 "metadata": {
  "kernelspec": {
   "display_name": "Python 3 (ipykernel)",
   "language": "python",
   "name": "python3"
  },
  "language_info": {
   "codemirror_mode": {
    "name": "ipython",
    "version": 3
   },
   "file_extension": ".py",
   "mimetype": "text/x-python",
   "name": "python",
   "nbconvert_exporter": "python",
   "pygments_lexer": "ipython3",
   "version": "3.9.15"
  }
 },
 "nbformat": 4,
 "nbformat_minor": 5
}
