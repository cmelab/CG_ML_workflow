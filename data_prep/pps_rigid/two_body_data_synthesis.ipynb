{
 "cells": [
  {
   "cell_type": "code",
   "execution_count": 1,
   "id": "d1e936fd",
   "metadata": {},
   "outputs": [
    {
     "name": "stderr",
     "output_type": "stream",
     "text": [
      "Warning: importing 'simtk.openmm' is deprecated.  Import 'openmm' instead.\n"
     ]
    }
   ],
   "source": [
    "from polybinder.system import System, Initializer\n",
    "from polybinder.simulate import Simulation\n",
    "import mbuild as mb\n",
    "import hoomd\n",
    "from mbuild.formats.hoomd_forcefield import to_hoomdsnapshot\n",
    "import numpy as np\n",
    "\n",
    "import os\n",
    "from datetime import datetime\n",
    "import rowan"
   ]
  },
  {
   "cell_type": "code",
   "execution_count": 2,
   "id": "73803f8d",
   "metadata": {},
   "outputs": [],
   "source": [
    "import warnings\n",
    "warnings.filterwarnings(\"ignore\")"
   ]
  },
  {
   "cell_type": "code",
   "execution_count": 3,
   "id": "0c70d0c5",
   "metadata": {},
   "outputs": [],
   "source": [
    "## set parameters\n",
    "dt = 0.0003\n",
    "tau_kT = 10\n",
    "kT = 1.1"
   ]
  },
  {
   "cell_type": "code",
   "execution_count": 4,
   "id": "1d767444",
   "metadata": {},
   "outputs": [],
   "source": [
    "system_params = System(density=0.01,\n",
    "                    molecule=\"PPS\",\n",
    "                    polymer_lengths=1,\n",
    "                    n_compounds=2,\n",
    "                    para_weight=1.0,\n",
    "                   )"
   ]
  },
  {
   "cell_type": "code",
   "execution_count": 5,
   "id": "f4576a45",
   "metadata": {},
   "outputs": [
    {
     "name": "stdout",
     "output_type": "stream",
     "text": [
      "Removing hydrogens and adjusting heavy atoms\n",
      "---------------------------------------------------------------\n",
      "make rigid snap...\n"
     ]
    }
   ],
   "source": [
    "PPS_system_saved = Initializer(system=system_params,\n",
    "                        system_type='stack',\n",
    "                        remove_hydrogens=True,\n",
    "                        n_rigid_beads=system_params.polymer_lengths[0] * system_params.n_compounds[0],\n",
    "                        rigid_bead_len=7,\n",
    "                        rigid_bead_names=['R1', 'R2'],\n",
    "                        separation=0.6,\n",
    "                        forcefield=\"opls\",\n",
    "                        save_parmed=False\n",
    "                              )"
   ]
  },
  {
   "cell_type": "code",
   "execution_count": 6,
   "id": "0588ad4c",
   "metadata": {},
   "outputs": [
    {
     "data": {
      "text/plain": [
       "array([1, 1, 1, 1, 1, 1, 1, 1, 1, 1], dtype=uint32)"
      ]
     },
     "execution_count": 6,
     "metadata": {},
     "output_type": "execute_result"
    }
   ],
   "source": [
    "PPS_system_saved.snapshot.particles.typeid"
   ]
  },
  {
   "cell_type": "code",
   "execution_count": 7,
   "id": "c50de608",
   "metadata": {},
   "outputs": [],
   "source": [
    "log_dir = \"/home/marjanalbooyeh/logs/pps_two_synthesized/\"\n",
    "now = datetime.now()\n",
    "log_path = os.path.join(log_dir, now.strftime(\"%Y-%m-%d-%H:%M:%S\")) + '/'\n",
    "\n",
    "\n",
    "if not os.path.exists(log_path):\n",
    "    os.mkdir(log_path)"
   ]
  },
  {
   "cell_type": "code",
   "execution_count": 8,
   "id": "154e02de",
   "metadata": {},
   "outputs": [
    {
     "name": "stdout",
     "output_type": "stream",
     "text": [
      "Processing LJ and QQ\n",
      "No charged groups found, ignoring electrostatics\n",
      "Processing 1-4 interactions, adjusting neighborlist exclusions\n",
      "Processing harmonic bonds\n",
      "Processing harmonic angles\n",
      "Processing RB torsions\n"
     ]
    }
   ],
   "source": [
    "from mbuild.formats.hoomd_forcefield import create_hoomd_forcefield\n",
    "snapshot, forcefields, refs = create_hoomd_forcefield(\n",
    "            structure=PPS_system_saved.system,\n",
    "            r_cut=2.5,\n",
    "            auto_scale=True,\n",
    "            init_snap=PPS_system_saved.snapshot\n",
    "        )"
   ]
  },
  {
   "cell_type": "code",
   "execution_count": 10,
   "id": "c62a0cc3",
   "metadata": {},
   "outputs": [],
   "source": [
    "device = hoomd.device.auto_select()\n",
    "sim = hoomd.Simulation(device=device, seed=1)"
   ]
  },
  {
   "cell_type": "code",
   "execution_count": 11,
   "id": "f9f9eb68",
   "metadata": {},
   "outputs": [],
   "source": [
    "from cmeutils.geometry import moit\n",
    "def _update_rigid_snapshot(snapshot, rigid_idx):\n",
    "    rigid = hoomd.md.constrain.Rigid()\n",
    "    for i, inds in enumerate(rigid_idx):\n",
    "        total_mass = np.sum(snapshot.particles.mass[inds])\n",
    "        com = (\n",
    "                np.sum(\n",
    "                    snapshot.particles.position[inds]\n",
    "                    * snapshot.particles.mass[inds, np.newaxis],\n",
    "                    axis=0,\n",
    "                )\n",
    "                / total_mass\n",
    "        )\n",
    "        snapshot.particles.position[i] = com\n",
    "        snapshot.particles.body[i] = i\n",
    "        snapshot.particles.body[inds] = i * np.ones_like(inds)\n",
    "        snapshot.particles.mass[i] = np.sum(snapshot.particles.mass[inds])\n",
    "        snapshot.particles.moment_inertia[i] = moit(\n",
    "            snapshot.particles.position[inds],\n",
    "            snapshot.particles.mass[inds],\n",
    "            center=com,\n",
    "        )\n",
    "        r_pos = snapshot.particles.position[i]\n",
    "        c_pos = snapshot.particles.position[inds]\n",
    "        c_pos -= r_pos\n",
    "        c_pos = [tuple(j) for j in c_pos]\n",
    "        c_types = [\n",
    "            snapshot.particles.types[j] for j in snapshot.particles.typeid[inds]\n",
    "        ]\n",
    "        c_orient = [tuple(j) for j in snapshot.particles.orientation[inds]]\n",
    "        c_charge = [j for j in snapshot.particles.charge[inds]]\n",
    "        c_diam = [j for j in snapshot.particles.diameter[inds]]\n",
    "        body_name = snapshot.particles.types[snapshot.particles.typeid[i]]\n",
    "\n",
    "        rigid.body[snapshot.particles.types[snapshot.particles.typeid[i]]] = {\n",
    "            \"constituent_types\": c_types,\n",
    "            \"positions\": c_pos,\n",
    "            \"charges\": c_charge,\n",
    "            \"orientations\": c_orient,\n",
    "            \"diameters\": c_diam,\n",
    "        }\n",
    "    return rigid"
   ]
  },
  {
   "cell_type": "code",
   "execution_count": 12,
   "id": "25a2cbed",
   "metadata": {},
   "outputs": [],
   "source": [
    "rigid = _update_rigid_snapshot(snapshot, PPS_system_saved.rigid_idx)"
   ]
  },
  {
   "cell_type": "code",
   "execution_count": 13,
   "id": "4da3d428",
   "metadata": {},
   "outputs": [
    {
     "data": {
      "text/plain": [
       "[array([2, 3, 4, 5, 6, 7, 8]), array([ 9, 10, 11, 12, 13, 14, 15])]"
      ]
     },
     "execution_count": 13,
     "metadata": {},
     "output_type": "execute_result"
    }
   ],
   "source": [
    "PPS_system_saved.rigid_idx"
   ]
  },
  {
   "cell_type": "code",
   "execution_count": 79,
   "id": "dfa49777",
   "metadata": {},
   "outputs": [
    {
     "data": {
      "text/plain": [
       "['R1', 'R2', 'opls_145', 'opls_200']"
      ]
     },
     "execution_count": 79,
     "metadata": {},
     "output_type": "execute_result"
    }
   ],
   "source": [
    "snapshot.particles.types"
   ]
  },
  {
   "cell_type": "code",
   "execution_count": 76,
   "id": "31f8e46d",
   "metadata": {},
   "outputs": [
    {
     "data": {
      "text/plain": [
       "{'R2': _HOOMDDict{'constituent_types': ['opls_145', 'opls_145', 'opls_145', 'opls_145', 'opls_200', 'opls_145', 'opls_145'], 'positions': [(0.0879160722266048, 0.0041908360503873174, -0.6451031299739882), (0.049560538770362816, -0.33327581406963186, -0.45650812259302365), (-0.002931098766756124, -0.3360288235454815, -0.0714882984479108), (-0.01703860126832546, -0.0008154406032485268, 0.12540812929974135), (-0.08420447867072167, -0.004032842804164013, 0.6180177805639331), (0.021315518819713608, 0.33692902438634037, -0.06382637578638703), (0.07377580316745447, 0.3391823263574672, -0.4488170618772007)], 'charges': [0.0, 0.0, 0.0, 0.0, 0.0, 0.0, 0.0], 'orientations': [(1.0, 0.0, 0.0, 0.0), (1.0, 0.0, 0.0, 0.0), (1.0, 0.0, 0.0, 0.0), (1.0, 0.0, 0.0, 0.0), (1.0, 0.0, 0.0, 0.0), (1.0, 0.0, 0.0, 0.0), (1.0, 0.0, 0.0, 0.0)], 'diameters': [1.0, 1.0, 1.0, 1.0, 1.0, 1.0, 1.0]}}"
      ]
     },
     "execution_count": 76,
     "metadata": {},
     "output_type": "execute_result"
    }
   ],
   "source": [
    "dict(rigid.body)"
   ]
  },
  {
   "cell_type": "code",
   "execution_count": 14,
   "id": "3cc1e3a3",
   "metadata": {},
   "outputs": [],
   "source": [
    "for i, force in enumerate(forcefields):\n",
    "    if isinstance(force, hoomd.md.pair.LJ):\n",
    "        for t in snapshot.particles.types:\n",
    "            for r in ['R1', 'R2']:\n",
    "                force.params[(r, t)] = dict(epsilon=0, sigma=0)\n",
    "                force.r_cut[(r, t)] = 0\n",
    "    if isinstance(force, hoomd.md.special_pair.LJ):\n",
    "        for k in force.params.keys():\n",
    "            force.params[k] = dict(epsilon=0., sigma=0.)\n",
    "    if isinstance(force, hoomd.md.bond.Harmonic):\n",
    "        for k in force.params.keys():\n",
    "            force.params[k] = dict(k=0, r0=0)\n",
    "    if isinstance(force, hoomd.md.angle.Harmonic):\n",
    "        for k in force.params.keys():\n",
    "            force.params[k] = dict(t0=0, k=0)\n",
    "    if isinstance(force, hoomd.md.dihedral.Harmonic):\n",
    "        for k in force.params.keys():\n",
    "            force.params[k] = dict(k1=0, k2=0, k3=0, k4=0)"
   ]
  },
  {
   "cell_type": "code",
   "execution_count": 15,
   "id": "d648c6d5",
   "metadata": {},
   "outputs": [],
   "source": [
    "sim.create_state_from_snapshot(snapshot)"
   ]
  },
  {
   "cell_type": "code",
   "execution_count": 16,
   "id": "ca7c0ad6",
   "metadata": {},
   "outputs": [
    {
     "data": {
      "text/plain": [
       "array([1, 1, 2, 2, 2, 2, 3, 2, 2, 2, 2, 2, 2, 3, 2, 2], dtype=uint32)"
      ]
     },
     "execution_count": 16,
     "metadata": {},
     "output_type": "execute_result"
    }
   ],
   "source": [
    "rigid_snap = sim.state.get_snapshot()\n",
    "rigid_snap.particles.typeid"
   ]
  },
  {
   "cell_type": "code",
   "execution_count": 17,
   "id": "863516b6",
   "metadata": {},
   "outputs": [
    {
     "name": "stderr",
     "output_type": "stream",
     "text": [
      "*Warning*: angle.harmonic: specified K <= 0\n",
      "*Warning*: angle.harmonic: specified t_0 <= 0\n",
      "*Warning*: angle.harmonic: specified K <= 0\n",
      "*Warning*: angle.harmonic: specified t_0 <= 0\n"
     ]
    }
   ],
   "source": [
    "rigid_filter = hoomd.filter.Rigid((\"center\", \"free\"))\n",
    "R1_filter = hoomd.filter.Tags([0])\n",
    "_filter= hoomd.filter.SetDifference(hoomd.filter.All(), R1_filter)\n",
    "\n",
    "integrator = hoomd.md.Integrator(dt=dt, integrate_rotational_dof=True)\n",
    "integrator.forces = forcefields\n",
    "integrator.rigid = rigid\n",
    "integrator_method = hoomd.md.methods.NVT(\n",
    "                    filter=_filter, kT=kT, tau=tau_kT)\n",
    "integrator.methods=[integrator_method]\n",
    "sim.operations.integrator = integrator\n",
    "sim.state.thermalize_particle_momenta(filter=_filter, kT=kT)\n",
    "\n",
    "thermodynamic_properties = hoomd.md.compute.ThermodynamicQuantities(\n",
    "    filter=hoomd.filter.All())\n",
    "sim.operations.computes.append(thermodynamic_properties)\n",
    "sim.run(0)"
   ]
  },
  {
   "cell_type": "code",
   "execution_count": 18,
   "id": "e746c5c9",
   "metadata": {},
   "outputs": [],
   "source": [
    "logger = hoomd.logging.Logger()\n",
    "logger.add(thermodynamic_properties, quantities=[\"potential_energy\",\"kinetic_energy\", \"kinetic_temperature\", \"pressure\"])\n",
    "logger.add(sim.operations.integrator.forces[0], quantities=[\"energy\"]) # LJ \n",
    "gsd_writer = hoomd.write.GSD(\n",
    "    filename=log_path + '/'+ \"pps_synthesized_original.gsd\",\n",
    "    trigger=hoomd.trigger.Periodic(\n",
    "        period=int(1), phase=0\n",
    "    ),\n",
    "    filter=hoomd.filter.All(),\n",
    "    mode=\"wb\",\n",
    "    dynamic=[\"momentum\"],\n",
    "    \n",
    ")\n",
    "sim.operations.writers.append(gsd_writer)\n",
    "gsd_writer.log = logger"
   ]
  },
  {
   "cell_type": "code",
   "execution_count": 19,
   "id": "7021ed43",
   "metadata": {},
   "outputs": [],
   "source": [
    "dynamic_particles_idx = [1, 9, 10, 11, 12, 13, 14, 15]"
   ]
  },
  {
   "cell_type": "markdown",
   "id": "9f9dd5dc",
   "metadata": {},
   "source": [
    "### toy orientations"
   ]
  },
  {
   "cell_type": "markdown",
   "id": "1d9f8c9c",
   "metadata": {},
   "source": [
    "## create grid positions and orientations"
   ]
  },
  {
   "cell_type": "code",
   "execution_count": 20,
   "id": "06ced907",
   "metadata": {},
   "outputs": [],
   "source": [
    "snap = sim.state.get_snapshot()\n",
    "com_pos_1 = snap.particles.position[0]\n",
    "com_pos_2 = snap.particles.position[1]\n",
    "\n",
    "grid_slice = 20\n",
    "radius_increament = 0.05\n",
    "radius_iterations = 30\n",
    "init_radius = np.abs(com_pos_1[0] - com_pos_2[0])\n",
    "\n",
    "# dt = (2 * np.pi)/grid_slice\n",
    "dt = (np.pi)/grid_slice\n",
    "grid_positions = []\n",
    "for j in range(radius_iterations):\n",
    "    radius = init_radius + j*radius_increament\n",
    "    for i in range(grid_slice):\n",
    "        grid_positions.append((com_pos_1[0] + (radius* np.cos(i*dt)), com_pos_1[1] +  (radius* np.sin(i*dt))))\n",
    "        \n",
    "orientation_num = 100\n",
    "rowan_grid_orientations= rowan.random.rand(orientation_num)"
   ]
  },
  {
   "cell_type": "code",
   "execution_count": 21,
   "id": "4a03f0b0",
   "metadata": {},
   "outputs": [
    {
     "data": {
      "text/plain": [
       "600"
      ]
     },
     "execution_count": 21,
     "metadata": {},
     "output_type": "execute_result"
    }
   ],
   "source": [
    "len(grid_positions)"
   ]
  },
  {
   "cell_type": "code",
   "execution_count": 22,
   "id": "73985906",
   "metadata": {},
   "outputs": [
    {
     "data": {
      "text/plain": [
       "-1.9130046071354307"
      ]
     },
     "execution_count": 22,
     "metadata": {},
     "output_type": "execute_result"
    }
   ],
   "source": [
    "sim.operations.integrator.forces[0].energy"
   ]
  },
  {
   "cell_type": "code",
   "execution_count": 23,
   "id": "c6e8d604",
   "metadata": {},
   "outputs": [],
   "source": [
    "positions = []\n",
    "orientations= []\n",
    "forces = []\n",
    "torques = []\n",
    "energies = []\n",
    "\n",
    "for q in rowan_grid_orientations:\n",
    "    for (x, y) in grid_positions:\n",
    "        with sim.state.cpu_local_snapshot as data:\n",
    "            idx = data.particles.rtag[1]\n",
    "            data.particles.position[idx] = (x, y, com_pos_1[2])\n",
    "            data.particles.orientation[idx] = q\n",
    "        sim.run(0, write_at_start=True)\n",
    "        energies.append(sim.operations.integrator.forces[0].energy)\n",
    "        with sim.state.cpu_local_snapshot as data:\n",
    "            com_idx = data.particles.rtag[[0, 1]]\n",
    "            positions.append(data.particles.position[com_idx])\n",
    "            orientations.append(data.particles.orientation[com_idx])\n",
    "            forces.append(data.particles.net_force[com_idx])\n",
    "            torques.append(data.particles.net_torque[com_idx])\n",
    "        sim.run(1)"
   ]
  },
  {
   "cell_type": "markdown",
   "id": "0f4bb8fd",
   "metadata": {},
   "source": [
    "### save gsd"
   ]
  },
  {
   "cell_type": "code",
   "execution_count": 24,
   "id": "fb07d2af",
   "metadata": {},
   "outputs": [],
   "source": [
    "import gsd.hoomd"
   ]
  },
  {
   "cell_type": "code",
   "execution_count": 25,
   "id": "846a1a87",
   "metadata": {},
   "outputs": [],
   "source": [
    "traj = gsd.hoomd.open(log_path + '/'+ \"pps_synthesized_original.gsd\", \"rb\")\n",
    "indices = (np.arange(int(len(traj)/2)) * 2).tolist()"
   ]
  },
  {
   "cell_type": "code",
   "execution_count": 26,
   "id": "ebd17af2",
   "metadata": {},
   "outputs": [],
   "source": [
    "new_traj =  gsd.hoomd.open(name= log_path + '/pps_synthesized_trimmed.gsd', mode='wb')\n",
    "new_traj.extend(traj[i] for i in indices)\n",
    "new_traj.close()"
   ]
  },
  {
   "cell_type": "markdown",
   "id": "3a9bd9de",
   "metadata": {},
   "source": [
    "### plot energies and forces"
   ]
  },
  {
   "cell_type": "code",
   "execution_count": 27,
   "id": "64f16329",
   "metadata": {},
   "outputs": [],
   "source": [
    "import matplotlib.pyplot as plt\n",
    "import numpy as np"
   ]
  },
  {
   "cell_type": "code",
   "execution_count": 28,
   "id": "aaa0c551",
   "metadata": {
    "scrolled": true
   },
   "outputs": [
    {
     "data": {
      "text/plain": [
       "(-5.0, 3.0)"
      ]
     },
     "execution_count": 28,
     "metadata": {},
     "output_type": "execute_result"
    },
    {
     "data": {
      "image/png": "[encoded data removed]",
      "text/plain": [
       "<Figure size 640x480 with 1 Axes>"
      ]
     },
     "metadata": {},
     "output_type": "display_data"
    }
   ],
   "source": [
    "for i in range(len(rowan_grid_orientations)):\n",
    "    pos_arr = np.asarray(positions[i* len(grid_positions):(i+1)*len(grid_positions)])\n",
    "    r = np.linalg.norm(pos_arr[:, 0, :]-pos_arr[:, 1, :], axis=1)\n",
    "    plt.plot(r, energies[i* len(grid_positions):(i+1)*len(grid_positions)])\n",
    "\n",
    "plt.ylim(-5, 3)"
   ]
  },
  {
   "cell_type": "code",
   "execution_count": 219,
   "id": "51b1a016",
   "metadata": {},
   "outputs": [
    {
     "data": {
      "text/plain": [
       "84.16371344260249"
      ]
     },
     "execution_count": 219,
     "metadata": {},
     "output_type": "execute_result"
    }
   ],
   "source": [
    "max(energies)"
   ]
  },
  {
   "cell_type": "code",
   "execution_count": 218,
   "id": "27c659e5",
   "metadata": {},
   "outputs": [
    {
     "data": {
      "text/plain": [
       "(-4.0, 1.0)"
      ]
     },
     "execution_count": 218,
     "metadata": {},
     "output_type": "execute_result"
    },
    {
     "data": {
      "image/png": "[encoded data removed]",
      "text/plain": [
       "<Figure size 640x480 with 1 Axes>"
      ]
     },
     "metadata": {},
     "output_type": "display_data"
    }
   ],
   "source": [
    "plt.plot(energies)\n",
    "plt.ylim((-4, 1))"
   ]
  },
  {
   "cell_type": "markdown",
   "id": "86158a64",
   "metadata": {},
   "source": [
    "### save dataset"
   ]
  },
  {
   "cell_type": "code",
   "execution_count": 34,
   "id": "11b9f3a5",
   "metadata": {},
   "outputs": [],
   "source": [
    "positions = np.asarray(positions)\n",
    "orientations = np.asarray(orientations)\n",
    "forces = np.asarray(forces)\n",
    "torques = np.asarray(torques)"
   ]
  },
  {
   "cell_type": "markdown",
   "id": "e1f09035",
   "metadata": {},
   "source": [
    "#### distances and rel. positions"
   ]
  },
  {
   "cell_type": "code",
   "execution_count": 74,
   "id": "d5a1b8d8",
   "metadata": {},
   "outputs": [],
   "source": [
    "rel_positions = np.zeros((positions.shape[0], positions.shape[1], positions.shape[2]+1))\n",
    "rel_positions[:, 0, :3] = positions[:, 0, :3] - positions[:, 1, :3]\n",
    "rel_positions[:, 1, :3] = positions[:, 1, :3] - positions[:, 0, :3]\n",
    "rel_positions[:, :, 3] = np.linalg.norm(rel_positions[:, :, :3], axis=2)"
   ]
  },
  {
   "cell_type": "markdown",
   "id": "640fbf01",
   "metadata": {},
   "source": [
    "#### orientation riemann_log_map and sym_intrinsic_distance"
   ]
  },
  {
   "cell_type": "code",
   "execution_count": 83,
   "id": "179010b7",
   "metadata": {},
   "outputs": [],
   "source": [
    "import rowan"
   ]
  },
  {
   "cell_type": "code",
   "execution_count": 81,
   "id": "7e7d239e",
   "metadata": {},
   "outputs": [],
   "source": [
    "rel_orientations = np.zeros((orientations.shape[0], orientations.shape[1], orientations.shape[2]+1))\n",
    "rel_orientations[:, 0, :4] = rowan.geometry.riemann_log_map(orientations[:, 0,:], orientations[:, 1, :])\n",
    "rel_orientations[:, 1, :4] = rowan.geometry.riemann_log_map(orientations[:, 1, :], orientations[:, 0, :])\n",
    "rel_orientations[:, 0, 4] = rowan.geometry.sym_intrinsic_distance(orientations[:, 0, :], orientations[:, 1, :])\n",
    "rel_orientations[:, 1, 4] = rowan.geometry.sym_intrinsic_distance(orientations[:, 1, :], orientations[:, 0, :])"
   ]
  },
  {
   "cell_type": "code",
   "execution_count": 201,
   "id": "214bc1a6",
   "metadata": {},
   "outputs": [
    {
     "data": {
      "text/plain": [
       "(60000, 2, 3)"
      ]
     },
     "execution_count": 201,
     "metadata": {},
     "output_type": "execute_result"
    }
   ],
   "source": [
    "forces.shape"
   ]
  },
  {
   "cell_type": "code",
   "execution_count": 202,
   "id": "52eb0df8",
   "metadata": {},
   "outputs": [
    {
     "data": {
      "text/plain": [
       "(60000, 2, 5)"
      ]
     },
     "execution_count": 202,
     "metadata": {},
     "output_type": "execute_result"
    }
   ],
   "source": [
    "rel_orientations.shape"
   ]
  },
  {
   "cell_type": "code",
   "execution_count": 204,
   "id": "4fc4c80c",
   "metadata": {},
   "outputs": [],
   "source": [
    "columns = [\n",
    "    \"position\",\n",
    "    \"orientation\",\n",
    "    \"net_force\",\n",
    "    \"net_torque\",\n",
    "]\n",
    "\n",
    "import pandas as pd\n",
    "traj_df = pd.DataFrame(columns=columns)"
   ]
  },
  {
   "cell_type": "code",
   "execution_count": 111,
   "id": "5084de93",
   "metadata": {},
   "outputs": [],
   "source": [
    "traj_df[\"position\"] = rel_positions.reshape(rel_positions.shape[0]*rel_positions.shape[1], rel_positions.shape[2]).tolist()\n",
    "traj_df[\"orientation\"] = rel_orientations.reshape(rel_orientations.shape[0]*rel_orientations.shape[1], rel_orientations.shape[2]).tolist()\n",
    "traj_df[\"net_force\"] = forces.reshape(forces.shape[0]*forces.shape[1], forces.shape[2]).tolist()\n",
    "traj_df[\"net_torque\"] = torques.reshape(torques.shape[0]*torques.shape[1], torques.shape[2]).tolist()"
   ]
  },
  {
   "cell_type": "code",
   "execution_count": 205,
   "id": "a1169a17",
   "metadata": {},
   "outputs": [],
   "source": [
    "traj_df[\"position\"] = rel_positions.tolist()\n",
    "traj_df[\"orientation\"] = rel_orientations.tolist()\n",
    "traj_df[\"net_force\"] = forces.tolist()\n",
    "traj_df[\"net_torque\"] = torques.tolist()"
   ]
  },
  {
   "cell_type": "code",
   "execution_count": 206,
   "id": "43d0c4d8",
   "metadata": {},
   "outputs": [],
   "source": [
    "traj_df.to_pickle(\"/home/marjanalbooyeh/logs/datasets/pps_two_synthesized/raw_data_neighbors.pkl\")"
   ]
  },
  {
   "cell_type": "markdown",
   "id": "fe402c24",
   "metadata": {},
   "source": [
    "### prepare ML model data"
   ]
  },
  {
   "cell_type": "code",
   "execution_count": 207,
   "id": "2fee0254",
   "metadata": {},
   "outputs": [
    {
     "data": {
      "text/html": [
       "<div>\n",
       "<style scoped>\n",
       "    .dataframe tbody tr th:only-of-type {\n",
       "        vertical-align: middle;\n",
       "    }\n",
       "\n",
       "    .dataframe tbody tr th {\n",
       "        vertical-align: top;\n",
       "    }\n",
       "\n",
       "    .dataframe thead th {\n",
       "        text-align: right;\n",
       "    }\n",
       "</style>\n",
       "<table border=\"1\" class=\"dataframe\">\n",
       "  <thead>\n",
       "    <tr style=\"text-align: right;\">\n",
       "      <th></th>\n",
       "      <th>position</th>\n",
       "      <th>orientation</th>\n",
       "      <th>net_force</th>\n",
       "      <th>net_torque</th>\n",
       "    </tr>\n",
       "  </thead>\n",
       "  <tbody>\n",
       "    <tr>\n",
       "      <th>0</th>\n",
       "      <td>[[-1.6666666666666663, 0.0, 0.0, 1.66666666666...</td>\n",
       "      <td>[[0.0, 0.9224391178104391, 0.32560408677396646...</td>\n",
       "      <td>[[7.1532204034117886, 0.22243932363621566, -0....</td>\n",
       "      <td>[[0.07230738220393593, -0.5154495628658031, 0....</td>\n",
       "    </tr>\n",
       "    <tr>\n",
       "      <th>1</th>\n",
       "      <td>[[-1.6461472343252292, -0.26072410840038474, 0...</td>\n",
       "      <td>[[0.0, 0.9224391178104391, 0.32560408677396646...</td>\n",
       "      <td>[[7.154939239971017, 0.2221260413439498, -0.34...</td>\n",
       "      <td>[[0.07228587889501019, -0.516500998821138, 0.0...</td>\n",
       "    </tr>\n",
       "    <tr>\n",
       "      <th>2</th>\n",
       "      <td>[[-1.5850941938252556, -0.5150283239582455, 0....</td>\n",
       "      <td>[[0.0, 0.9224391178104391, 0.32560408677396646...</td>\n",
       "      <td>[[5.478712175611795, 1.6881740190876324, -0.35...</td>\n",
       "      <td>[[0.14171650682773196, -0.15249776012939298, 0...</td>\n",
       "    </tr>\n",
       "    <tr>\n",
       "      <th>3</th>\n",
       "      <td>[[-1.4850108736472796, -0.7566508328992444, 0....</td>\n",
       "      <td>[[0.0, 0.9224391178104391, 0.32560408677396646...</td>\n",
       "      <td>[[1.653045863812842, 1.9430140536765077, -0.75...</td>\n",
       "      <td>[[-0.15598402985892157, 0.637213402326216, 1.4...</td>\n",
       "    </tr>\n",
       "    <tr>\n",
       "      <th>4</th>\n",
       "      <td>[[-1.3483616572915789, -0.9796420871541217, 0....</td>\n",
       "      <td>[[0.0, 0.9224391178104391, 0.32560408677396646...</td>\n",
       "      <td>[[-2.206691632325201, 0.2124284872351735, -1.2...</td>\n",
       "      <td>[[-0.8264980811815716, 1.269053617242332, 2.22...</td>\n",
       "    </tr>\n",
       "  </tbody>\n",
       "</table>\n",
       "</div>"
      ],
      "text/plain": [
       "                                            position  \\\n",
       "0  [[-1.6666666666666663, 0.0, 0.0, 1.66666666666...   \n",
       "1  [[-1.6461472343252292, -0.26072410840038474, 0...   \n",
       "2  [[-1.5850941938252556, -0.5150283239582455, 0....   \n",
       "3  [[-1.4850108736472796, -0.7566508328992444, 0....   \n",
       "4  [[-1.3483616572915789, -0.9796420871541217, 0....   \n",
       "\n",
       "                                         orientation  \\\n",
       "0  [[0.0, 0.9224391178104391, 0.32560408677396646...   \n",
       "1  [[0.0, 0.9224391178104391, 0.32560408677396646...   \n",
       "2  [[0.0, 0.9224391178104391, 0.32560408677396646...   \n",
       "3  [[0.0, 0.9224391178104391, 0.32560408677396646...   \n",
       "4  [[0.0, 0.9224391178104391, 0.32560408677396646...   \n",
       "\n",
       "                                           net_force  \\\n",
       "0  [[7.1532204034117886, 0.22243932363621566, -0....   \n",
       "1  [[7.154939239971017, 0.2221260413439498, -0.34...   \n",
       "2  [[5.478712175611795, 1.6881740190876324, -0.35...   \n",
       "3  [[1.653045863812842, 1.9430140536765077, -0.75...   \n",
       "4  [[-2.206691632325201, 0.2124284872351735, -1.2...   \n",
       "\n",
       "                                          net_torque  \n",
       "0  [[0.07230738220393593, -0.5154495628658031, 0....  \n",
       "1  [[0.07228587889501019, -0.516500998821138, 0.0...  \n",
       "2  [[0.14171650682773196, -0.15249776012939298, 0...  \n",
       "3  [[-0.15598402985892157, 0.637213402326216, 1.4...  \n",
       "4  [[-0.8264980811815716, 1.269053617242332, 2.22...  "
      ]
     },
     "execution_count": 207,
     "metadata": {},
     "output_type": "execute_result"
    }
   ],
   "source": [
    "traj_df.head()"
   ]
  },
  {
   "cell_type": "code",
   "execution_count": 208,
   "id": "7dabf268",
   "metadata": {},
   "outputs": [],
   "source": [
    "#shuffle order of frames\n",
    "traj_df = traj_df.sample(frac=1).reset_index(drop=True)"
   ]
  },
  {
   "cell_type": "code",
   "execution_count": 209,
   "id": "5720d274",
   "metadata": {},
   "outputs": [],
   "source": [
    "### Split dataset \n",
    "\n",
    "\n",
    "test_frac = 0.1\n",
    "val_frac = 0.1\n",
    "\n",
    "dataset_len = traj_df.shape[0]\n",
    "test_len = int(dataset_len * test_frac)\n",
    "val_len = int(dataset_len * val_frac)\n",
    "\n",
    "\n",
    "test_df = traj_df.loc[:test_len]\n",
    "\n",
    "val_df = traj_df.loc[test_len: test_len + val_len]\n",
    "\n",
    "train_df = traj_df.loc[test_len + val_len:]"
   ]
  },
  {
   "cell_type": "code",
   "execution_count": 210,
   "id": "affb2c47",
   "metadata": {},
   "outputs": [],
   "source": [
    "target_data_path = \"/home/marjanalbooyeh/logs/datasets/pps_two_synthesized/neighbors\"\n",
    "import os\n",
    "if not os.path.exists(target_data_path):\n",
    "    os.mkdir(target_data_path)\n",
    "train_df.to_pickle(target_data_path + 'train.pkl')\n",
    "val_df.to_pickle(target_data_path + 'val.pkl')\n",
    "test_df.to_pickle(target_data_path + 'test.pkl')"
   ]
  },
  {
   "cell_type": "code",
   "execution_count": 211,
   "id": "0c171996",
   "metadata": {},
   "outputs": [],
   "source": [
    "import torch"
   ]
  },
  {
   "cell_type": "code",
   "execution_count": 212,
   "id": "f20ccec4",
   "metadata": {},
   "outputs": [],
   "source": [
    "pos = torch.from_numpy(np.array(list(traj_df['position']))).type(torch.FloatTensor)"
   ]
  },
  {
   "cell_type": "code",
   "execution_count": 124,
   "id": "27f45e80",
   "metadata": {},
   "outputs": [],
   "source": [
    "ori = torch.from_numpy(np.array(list(traj_df['orientation']))).type(torch.FloatTensor)"
   ]
  },
  {
   "cell_type": "code",
   "execution_count": 143,
   "id": "e0f053d1",
   "metadata": {},
   "outputs": [],
   "source": [
    "res = torch.stack((pos, ori), dim=1)"
   ]
  },
  {
   "cell_type": "code",
   "execution_count": 142,
   "id": "802bc994",
   "metadata": {},
   "outputs": [],
   "source": [
    "pos = torch.cat((pos, torch.zeros(pos.shape[0], 1)), dim=1)"
   ]
  },
  {
   "cell_type": "code",
   "execution_count": 213,
   "id": "ad3e7872",
   "metadata": {},
   "outputs": [
    {
     "data": {
      "text/plain": [
       "torch.Size([60000, 2, 4])"
      ]
     },
     "execution_count": 213,
     "metadata": {},
     "output_type": "execute_result"
    }
   ],
   "source": [
    "pos.shape"
   ]
  },
  {
   "cell_type": "code",
   "execution_count": 196,
   "id": "d27e6d2c",
   "metadata": {},
   "outputs": [],
   "source": [
    "from torch.utils.data import Dataset, DataLoader\n",
    "class CustomTrajDataset(Dataset):\n",
    "    def __init__(self, traj_df, mode=\"append\"):\n",
    "        positions = torch.from_numpy(np.array(list(traj_df['position']))).type(torch.FloatTensor)\n",
    "        orientations = torch.from_numpy(np.array(list(traj_df['orientation']))).type(torch.FloatTensor)\n",
    "        forces = torch.from_numpy(np.array(list(traj_df['net_force']))).type(torch.FloatTensor)\n",
    "        torques = torch.from_numpy(np.array(list(traj_df['net_torque']))).type(torch.FloatTensor)\n",
    "\n",
    "        if mode == \"append\":\n",
    "            self.input = torch.cat((positions, orientations), 1)\n",
    "        else:\n",
    "            positions = torch.cat((positions, torch.zeros(positions.shape[0], 1)), dim=1)\n",
    "            self.input = torch.stack((positions, orientations), dim=1)\n",
    "        self.forces = forces\n",
    "        self.torques = torques\n",
    "        self.in_dim = self.input.shape[-1]\n",
    "\n",
    "    def __len__(self):\n",
    "        return len(self.input)\n",
    "\n",
    "    def __getitem__(self, i):\n",
    "        return self.input[i], self.forces[i], self.torques[i]"
   ]
  },
  {
   "cell_type": "code",
   "execution_count": 197,
   "id": "86415c46",
   "metadata": {},
   "outputs": [],
   "source": [
    "def _get_data_loader(dataset, batch_size, shuffle=True):\n",
    "    dataloader = DataLoader(dataset=dataset, batch_size=batch_size, shuffle=shuffle, num_workers=4)\n",
    "    return dataloader"
   ]
  },
  {
   "cell_type": "code",
   "execution_count": 198,
   "id": "33c7b048",
   "metadata": {},
   "outputs": [],
   "source": [
    "train_dataset = CustomTrajDataset(train_df)"
   ]
  },
  {
   "cell_type": "code",
   "execution_count": 199,
   "id": "dd2eb52f",
   "metadata": {},
   "outputs": [],
   "source": [
    "train_dataloader = _get_data_loader(dataset=train_dataset, batch_size=16, shuffle=True)"
   ]
  },
  {
   "cell_type": "code",
   "execution_count": 200,
   "id": "bcacfbdd",
   "metadata": {},
   "outputs": [
    {
     "data": {
      "text/plain": [
       "9"
      ]
     },
     "execution_count": 200,
     "metadata": {},
     "output_type": "execute_result"
    }
   ],
   "source": [
    "train_dataloader.dataset.in_dim"
   ]
  },
  {
   "cell_type": "code",
   "execution_count": 182,
   "id": "18786b99",
   "metadata": {},
   "outputs": [],
   "source": [
    "import torch.nn as nn\n",
    "class NN(nn.Module):\n",
    "    def __init__(self, in_dim, hidden_dim, out_dim, n_layers, act_fn=\"ReLU\"):\n",
    "        super(NN, self).__init__()\n",
    "        self.in_dim = in_dim\n",
    "        self.hidden_dim = hidden_dim\n",
    "        self.out_dim = out_dim\n",
    "        self.n_layers = n_layers\n",
    "        self.act_fn = act_fn\n",
    "\n",
    "        self.force_net = nn.Sequential(*self._get_net())\n",
    "        self.torque_net = nn.Sequential(*self._get_net())\n",
    "\n",
    "    def _get_act_fn(self):\n",
    "        act = getattr(nn, self.act_fn)\n",
    "        return act()\n",
    "\n",
    "    def _get_net(self):\n",
    "        layers = [nn.Linear(self.in_dim, self.hidden_dim), self._get_act_fn()]\n",
    "        for i in range(self.n_layers - 1):\n",
    "            layers.append(nn.Linear(self.hidden_dim, self.hidden_dim))\n",
    "            layers.append(nn.Dropout(p=0.5))\n",
    "            layers.append(self._get_act_fn())\n",
    "        layers.append(nn.Linear(self.hidden_dim, self.out_dim))\n",
    "        return layers\n",
    "\n",
    "    def forward(self, x):\n",
    "        return self.force_net(x), self.torque_net(x)"
   ]
  },
  {
   "cell_type": "code",
   "execution_count": 183,
   "id": "89f33d97",
   "metadata": {},
   "outputs": [],
   "source": [
    "model = NN(in_dim=train_dataloader.dataset.in_dim, hidden_dim=32, out_dim=3, n_layers=1, act_fn=\"Tanh\")"
   ]
  },
  {
   "cell_type": "code",
   "execution_count": 189,
   "id": "ada356f2",
   "metadata": {},
   "outputs": [
    {
     "data": {
      "text/plain": [
       "NN(\n",
       "  (force_net): Sequential(\n",
       "    (0): Linear(in_features=5, out_features=32, bias=True)\n",
       "    (1): Tanh()\n",
       "    (2): Linear(in_features=32, out_features=3, bias=True)\n",
       "  )\n",
       "  (torque_net): Sequential(\n",
       "    (0): Linear(in_features=5, out_features=32, bias=True)\n",
       "    (1): Tanh()\n",
       "    (2): Linear(in_features=32, out_features=3, bias=True)\n",
       "  )\n",
       ")"
      ]
     },
     "execution_count": 189,
     "metadata": {},
     "output_type": "execute_result"
    }
   ],
   "source": [
    "model.to(device)"
   ]
  },
  {
   "cell_type": "code",
   "execution_count": 184,
   "id": "71ca4cae",
   "metadata": {},
   "outputs": [],
   "source": [
    "device = torch.device(\"cuda:0\" if torch.cuda.is_available() else \"cpu\")"
   ]
  },
  {
   "cell_type": "code",
   "execution_count": 185,
   "id": "df265330",
   "metadata": {},
   "outputs": [],
   "source": [
    "for (input, target_force, target_torque) in train_dataloader: \n",
    "    feature_tensor = input.to(device)\n",
    "    target_force = target_force.to(device)\n",
    "    target_torque = target_torque.to(device)\n",
    "    break"
   ]
  },
  {
   "cell_type": "code",
   "execution_count": 186,
   "id": "0dba8c21",
   "metadata": {},
   "outputs": [
    {
     "data": {
      "text/plain": [
       "torch.Size([16, 2, 5])"
      ]
     },
     "execution_count": 186,
     "metadata": {},
     "output_type": "execute_result"
    }
   ],
   "source": [
    "feature_tensor.shape"
   ]
  },
  {
   "cell_type": "code",
   "execution_count": 191,
   "id": "1e5bb3b2",
   "metadata": {},
   "outputs": [],
   "source": [
    "out = model(feature_tensor)"
   ]
  },
  {
   "cell_type": "code",
   "execution_count": 194,
   "id": "0f11f5a6",
   "metadata": {},
   "outputs": [
    {
     "data": {
      "text/plain": [
       "torch.Size([16, 2, 3])"
      ]
     },
     "execution_count": 194,
     "metadata": {},
     "output_type": "execute_result"
    }
   ],
   "source": [
    "out[0].shape"
   ]
  },
  {
   "cell_type": "code",
   "execution_count": 195,
   "id": "a17709e7",
   "metadata": {},
   "outputs": [
    {
     "data": {
      "text/plain": [
       "torch.Size([16, 3])"
      ]
     },
     "execution_count": 195,
     "metadata": {},
     "output_type": "execute_result"
    }
   ],
   "source": [
    "target_force.shape"
   ]
  },
  {
   "cell_type": "code",
   "execution_count": null,
   "id": "226e8113",
   "metadata": {},
   "outputs": [],
   "source": []
  }
 ],
 "metadata": {
  "kernelspec": {
   "display_name": "Python 3 (ipykernel)",
   "language": "python",
   "name": "python3"
  },
  "language_info": {
   "codemirror_mode": {
    "name": "ipython",
    "version": 3
   },
   "file_extension": ".py",
   "mimetype": "text/x-python",
   "name": "python",
   "nbconvert_exporter": "python",
   "pygments_lexer": "ipython3",
   "version": "3.9.15"
  }
 },
 "nbformat": 4,
 "nbformat_minor": 5
}
