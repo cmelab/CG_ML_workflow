{
 "cells": [
  {
   "cell_type": "code",
   "execution_count": 1,
   "id": "578a2ab9",
   "metadata": {},
   "outputs": [],
   "source": [
    "import torch"
   ]
  },
  {
   "cell_type": "code",
   "execution_count": 2,
   "id": "cff2a6ca",
   "metadata": {},
   "outputs": [],
   "source": [
    "from data_loader import load_datasets"
   ]
  },
  {
   "cell_type": "code",
   "execution_count": 26,
   "id": "07c7fa5a",
   "metadata": {},
   "outputs": [],
   "source": [
    "import os\n",
    "\n",
    "import numpy as np\n",
    "import pandas as pd\n",
    "import torch\n",
    "from torch.utils.data import Dataset, DataLoader\n",
    "\n",
    "class CustomTrajDataset(Dataset):\n",
    "    def __init__(self, traj_df, mode=\"append\"):\n",
    "        positions = torch.from_numpy(np.array(list(traj_df['position']))).type(torch.FloatTensor)\n",
    "        orientations = torch.from_numpy(np.array(list(traj_df['orientation']))).type(torch.FloatTensor)\n",
    "        forces = torch.from_numpy(np.array(list(traj_df['net_force']))).type(torch.FloatTensor)\n",
    "        torques = torch.from_numpy(np.array(list(traj_df['net_torque']))).type(torch.FloatTensor)\n",
    "\n",
    "        if mode == \"append\":\n",
    "            self.input = torch.cat((positions, orientations), 2)\n",
    "        else:\n",
    "            orientations  = orientations[:, :, :4]\n",
    "            self.input = torch.stack((positions, orientations), dim=2)\n",
    "\n",
    "        self.in_dim = self.input.shape[-1]\n",
    "        self.forces = forces\n",
    "        self.torques = torques\n",
    "\n",
    "    def __len__(self):\n",
    "        return len(self.input)\n",
    "\n",
    "    def __getitem__(self, i):\n",
    "        return self.input[i], self.forces[i], self.torques[i]\n",
    "\n",
    "\n",
    "def _get_data_loader(dataset, batch_size, shuffle=True):\n",
    "    dataloader = DataLoader(dataset=dataset, batch_size=batch_size, shuffle=shuffle, num_workers=5)\n",
    "    return dataloader\n"
   ]
  },
  {
   "cell_type": "code",
   "execution_count": 27,
   "id": "6286d71e",
   "metadata": {},
   "outputs": [],
   "source": [
    "data_path = \"/home/marjanalbooyeh/logs/datasets/pps_two_synthesized/neighbors/\"\n",
    "val_df = pd.read_pickle(os.path.join(data_path, 'val.pkl'))"
   ]
  },
  {
   "cell_type": "code",
   "execution_count": 28,
   "id": "136c6e65",
   "metadata": {},
   "outputs": [],
   "source": [
    "valid_dataset = CustomTrajDataset(val_df, mode=\"stack\")"
   ]
  },
  {
   "cell_type": "code",
   "execution_count": 29,
   "id": "e1ac466d",
   "metadata": {},
   "outputs": [
    {
     "name": "stderr",
     "output_type": "stream",
     "text": [
      "/home/marjanalbooyeh/anaconda3/envs/polybinder/lib/python3.9/site-packages/torch/utils/data/dataloader.py:563: UserWarning: This DataLoader will create 5 worker processes in total. Our suggested max number of worker in current system is 1, which is smaller than what this DataLoader is going to create. Please be aware that excessive worker creation might get DataLoader running slow or even freeze, lower the worker number to avoid potential slowness/freeze if necessary.\n",
      "  warnings.warn(_create_warning_msg(\n"
     ]
    }
   ],
   "source": [
    "val_dataloader = _get_data_loader(valid_dataset, 16)"
   ]
  },
  {
   "cell_type": "code",
   "execution_count": 30,
   "id": "28de4b35",
   "metadata": {},
   "outputs": [
    {
     "name": "stderr",
     "output_type": "stream",
     "text": [
      "/home/marjanalbooyeh/anaconda3/envs/polybinder/lib/python3.9/site-packages/torch/utils/data/dataloader.py:563: UserWarning: This DataLoader will create 5 worker processes in total. Our suggested max number of worker in current system is 1, which is smaller than what this DataLoader is going to create. Please be aware that excessive worker creation might get DataLoader running slow or even freeze, lower the worker number to avoid potential slowness/freeze if necessary.\n",
      "  warnings.warn(_create_warning_msg(\n"
     ]
    },
    {
     "name": "stdout",
     "output_type": "stream",
     "text": [
      "torch.Size([16, 2, 2, 4])\n",
      "torch.Size([16, 2, 3])\n",
      "torch.Size([16, 2, 3])\n"
     ]
    }
   ],
   "source": [
    "for (inp, force, torque) in val_dataloader:\n",
    "    print(inp.shape)\n",
    "    print(force.shape)\n",
    "    print(torque.shape)\n",
    "    break"
   ]
  },
  {
   "cell_type": "code",
   "execution_count": 31,
   "id": "c76fd852",
   "metadata": {},
   "outputs": [],
   "source": [
    "import torch.nn as nn"
   ]
  },
  {
   "cell_type": "code",
   "execution_count": 47,
   "id": "b624febf",
   "metadata": {},
   "outputs": [],
   "source": [
    "m= nn.Conv2d(in_channels=2, out_channels=2, kernel_size=(2, 4))"
   ]
  },
  {
   "cell_type": "code",
   "execution_count": 48,
   "id": "c7f45a99",
   "metadata": {},
   "outputs": [],
   "source": [
    "out1 = m(inp)"
   ]
  },
  {
   "cell_type": "code",
   "execution_count": 49,
   "id": "61aa95f2",
   "metadata": {},
   "outputs": [
    {
     "data": {
      "text/plain": [
       "torch.Size([16, 2, 1, 1])"
      ]
     },
     "execution_count": 49,
     "metadata": {},
     "output_type": "execute_result"
    }
   ],
   "source": [
    "out1.shape"
   ]
  },
  {
   "cell_type": "code",
   "execution_count": 53,
   "id": "ed2a2bf8",
   "metadata": {},
   "outputs": [],
   "source": [
    "l = nn.Linear(4,3)"
   ]
  },
  {
   "cell_type": "code",
   "execution_count": 56,
   "id": "a5fd8adf",
   "metadata": {},
   "outputs": [
    {
     "data": {
      "text/plain": [
       "tensor([[[[ 2.1777e-01, -1.2484e+00, -2.6752e-01],\n",
       "          [-8.6078e-01, -1.5895e-01,  5.1757e-01]],\n",
       "\n",
       "         [[ 6.2031e-01, -1.2318e+00, -2.3583e-01],\n",
       "          [ 4.4008e-01, -7.5988e-01, -6.8096e-01]]],\n",
       "\n",
       "\n",
       "        [[[ 4.3609e-01, -2.9435e+00, -1.5278e+00],\n",
       "          [-1.1603e+00,  5.9145e-01,  6.6783e-01]],\n",
       "\n",
       "         [[ 7.9951e-01, -2.9683e-02,  9.1711e-01],\n",
       "          [ 7.3960e-01, -1.5103e+00, -8.3122e-01]]],\n",
       "\n",
       "\n",
       "        [[[ 3.5815e-01, -2.5313e+00, -1.2898e+00],\n",
       "          [-2.6899e-01,  4.4421e-01,  2.9368e-02]],\n",
       "\n",
       "         [[ 5.9351e-01, -8.9732e-02,  7.5578e-01],\n",
       "          [-1.5171e-01, -1.3630e+00, -1.9276e-01]]],\n",
       "\n",
       "\n",
       "        [[[ 3.3401e-01, -1.7279e+00, -5.1905e-01],\n",
       "          [-1.2832e+00, -3.5133e-01,  1.1802e-01]],\n",
       "\n",
       "         [[ 9.0158e-01, -1.2454e+00, -9.1655e-02],\n",
       "          [ 8.6251e-01, -5.6750e-01, -2.8140e-01]]],\n",
       "\n",
       "\n",
       "        [[[ 3.5268e-01, -1.7713e+00, -5.3404e-01],\n",
       "          [ 4.9641e-02, -6.5316e-01, -1.8936e-01]],\n",
       "\n",
       "         [[ 9.3971e-01, -1.2723e+00, -9.1997e-02],\n",
       "          [-4.7034e-01, -2.6567e-01,  2.5970e-02]]],\n",
       "\n",
       "\n",
       "        [[[ 4.0982e-01, -1.0417e+00,  5.6268e-02],\n",
       "          [-1.7725e-01, -3.0380e-01, -4.5435e-01]],\n",
       "\n",
       "         [[ 8.2577e-01, -1.9316e+00, -6.6697e-01],\n",
       "          [-2.4345e-01, -6.1503e-01,  2.9096e-01]]],\n",
       "\n",
       "\n",
       "        [[[ 4.1882e-01, -1.3223e+00, -1.3635e-01],\n",
       "          [ 8.4183e-02, -4.3687e-01, -2.4331e-01]],\n",
       "\n",
       "         [[ 9.3034e-01, -1.7919e+00, -5.0502e-01],\n",
       "          [-5.0488e-01, -4.8196e-01,  7.9917e-02]]],\n",
       "\n",
       "\n",
       "        [[[ 2.6869e-01, -1.5756e+00, -4.6656e-01],\n",
       "          [ 3.6234e-01, -7.8573e-01, -5.2615e-01]],\n",
       "\n",
       "         [[ 7.6815e-01, -1.1511e+00, -9.0460e-02],\n",
       "          [-7.8303e-01, -1.3310e-01,  3.6276e-01]]],\n",
       "\n",
       "\n",
       "        [[[ 3.4334e-01, -1.7496e+00, -5.2654e-01],\n",
       "          [-1.7887e-01, -5.5768e-01, -3.5225e-01]],\n",
       "\n",
       "         [[ 9.2064e-01, -1.2588e+00, -9.1826e-02],\n",
       "          [-2.4182e-01, -3.6115e-01,  1.8886e-01]]],\n",
       "\n",
       "\n",
       "        [[[ 2.1695e-01, -1.0454e+00, -1.1881e-01],\n",
       "          [ 2.4557e-01, -7.5895e-01,  1.1212e-01]],\n",
       "\n",
       "         [[ 5.6435e-01, -1.3643e+00, -3.6920e-01],\n",
       "          [-6.6627e-01, -1.5988e-01, -2.7550e-01]]],\n",
       "\n",
       "\n",
       "        [[[ 2.9575e-01, -5.8277e-01,  2.7030e-01],\n",
       "          [ 7.1087e-01, -8.5289e-01, -6.2945e-01]],\n",
       "\n",
       "         [[ 4.8555e-01, -1.8270e+00, -7.5831e-01],\n",
       "          [-1.1316e+00, -6.5937e-02,  4.6606e-01]]],\n",
       "\n",
       "\n",
       "        [[[ 3.9118e-01, -4.5379e-01,  4.3312e-01],\n",
       "          [ 1.3815e-01,  3.0722e-01,  2.8413e-01]],\n",
       "\n",
       "         [[ 5.3209e-01, -2.1320e+00, -9.5947e-01],\n",
       "          [-5.5885e-01, -1.2261e+00, -4.4752e-01]]],\n",
       "\n",
       "\n",
       "        [[[ 1.9429e-01, -2.0745e+00, -9.7763e-01],\n",
       "          [-6.5715e-02, -5.8205e-01,  1.9428e-01]],\n",
       "\n",
       "         [[ 5.8700e-01, -3.3519e-01,  4.8962e-01],\n",
       "          [-3.5498e-01, -3.3678e-01, -3.5767e-01]]],\n",
       "\n",
       "\n",
       "        [[[ 3.1110e-01, -2.3598e+00, -1.1898e+00],\n",
       "          [ 3.1196e-01, -9.5080e-01, -4.8384e-01]],\n",
       "\n",
       "         [[ 5.2699e-01, -1.2033e-01,  6.8647e-01],\n",
       "          [-7.3266e-01,  3.1973e-02,  3.2045e-01]]],\n",
       "\n",
       "\n",
       "        [[[ 3.0351e-01, -9.4186e-01,  3.2617e-02],\n",
       "          [-1.2499e-01, -5.5245e-01, -1.2732e-01]],\n",
       "\n",
       "         [[ 6.4815e-01, -1.6792e+00, -5.6664e-01],\n",
       "          [-2.9571e-01, -3.6638e-01, -3.6071e-02]]],\n",
       "\n",
       "\n",
       "        [[[ 3.6892e-01, -2.4298e+00, -1.2251e+00],\n",
       "          [ 4.3477e-01, -9.2159e-01, -3.9123e-01]],\n",
       "\n",
       "         [[ 5.2596e-01, -1.2079e-01,  7.0646e-01],\n",
       "          [-8.5547e-01,  2.7606e-03,  2.2785e-01]]]], grad_fn=<AddBackward0>)"
      ]
     },
     "execution_count": 56,
     "metadata": {},
     "output_type": "execute_result"
    }
   ],
   "source": [
    "out2 = l(inp)\n",
    "out2"
   ]
  },
  {
   "cell_type": "code",
   "execution_count": 58,
   "id": "ed66aeb5",
   "metadata": {},
   "outputs": [
    {
     "data": {
      "text/plain": [
       "torch.Size([16, 2, 3])"
      ]
     },
     "execution_count": 58,
     "metadata": {},
     "output_type": "execute_result"
    }
   ],
   "source": [
    "out2.mean(dim=-2).shape"
   ]
  },
  {
   "cell_type": "code",
   "execution_count": null,
   "id": "02c5b2e6",
   "metadata": {},
   "outputs": [],
   "source": []
  }
 ],
 "metadata": {
  "kernelspec": {
   "display_name": "Python 3 (ipykernel)",
   "language": "python",
   "name": "python3"
  },
  "language_info": {
   "codemirror_mode": {
    "name": "ipython",
    "version": 3
   },
   "file_extension": ".py",
   "mimetype": "text/x-python",
   "name": "python",
   "nbconvert_exporter": "python",
   "pygments_lexer": "ipython3",
   "version": "3.9.15"
  }
 },
 "nbformat": 4,
 "nbformat_minor": 5
}
